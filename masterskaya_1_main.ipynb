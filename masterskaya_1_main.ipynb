{
 "cells": [
  {
   "cell_type": "markdown",
   "id": "3104472f",
   "metadata": {},
   "source": [
    "# Анализ и прогнозирование жизненного цикла стартапов\n",
    "\n",
    "# Описание проекта\n",
    "\n",
    "Данный проект представляет собой комплексное исследование в области анализа данных и машинного обучения, направленное на прогнозирование статуса технологических стартапов. В рамках работы проводится анализ исторических данных о 53 000 стартапах, основанных в период с 1980 по 2018 год. \n",
    "\n",
    "Проект выполняется в рамках образовательной программы Яндекс Практикума с использованием современных методов Data Science. Результаты исследования имеют практическую ценность для венчурных инвесторов, бизнес-ангелов и предпринимательского сообщества.\n",
    "\n",
    "# Цель проекта\n",
    " \n",
    "- Разработать модель машинного обучения для предсказания продолжения деятельности стартапа. \n",
    "- Провести полноценный разведочный анализ и сформировать рекомендации будущим создателям стартапов (какие факторы влияют на успешность стартапа).\n",
    "\n",
    "# Исходные данные\n",
    "\n",
    "Датасет состоит из двух файлов (+пример с выгрузкой): тренировочный набор (около 53к записей) и тестовый набор (около 13к записей). Тренировочный набор содержит целевой признак status, указывающий на то, закрылся стартап или продолжает действовать. Временной период - '1970-01-01' по '2018-01-01'. Дата формирования выгрузки - '2018-01-01'\n",
    "\n",
    "- kaggle_startups_train.csv - информация (53 000) стартапах, которые будут использоваться в качестве обучающих данных.\n",
    "- kaggle_startups_test.csv - информация (13 000) стартапах, которые будут использоваться в качестве тестовых данных. Задача проекта - предсказать значение 'status' для каждого стартапа из этого датасета.\n",
    "- kaggle_startups_sample_submit.csv - файл с примером предсказаний в правильном формате.\n",
    "- name - идентификатор (название) стартапа в тестовом наборе.\n",
    "- status - целевой признак. Для каждого стартапа нужно предсказать категориальное значение соответствующее прогнозу ['operating', 'closed'].\n"
   ]
  },
  {
   "cell_type": "markdown",
   "id": "75737581",
   "metadata": {},
   "source": [
    "## Загрузка данных\n",
    "### Загрузка необходимых библиотек"
   ]
  },
  {
   "cell_type": "code",
   "execution_count": 1,
   "id": "2fca0b01",
   "metadata": {},
   "outputs": [],
   "source": [
    "!pip install -U scikit-learn -q"
   ]
  },
  {
   "cell_type": "code",
   "execution_count": 2,
   "id": "72ebd6ab",
   "metadata": {},
   "outputs": [],
   "source": [
    "!pip install shap -q"
   ]
  },
  {
   "cell_type": "code",
   "execution_count": 3,
   "id": "6b3fed5a",
   "metadata": {},
   "outputs": [],
   "source": [
    "# Импорт основных библиотек\n",
    "import pandas as pd\n",
    "import numpy as np\n",
    "import matplotlib.pyplot as plt\n",
    "import seaborn as sns\n",
    "import shap\n",
    "\n",
    "from datetime import datetime  # Работа с датами и временем\n",
    "\n",
    "# загружаем класс pipeline\n",
    "from sklearn.pipeline import Pipeline\n",
    "from sklearn.compose import ColumnTransformer\n",
    "\n",
    "from sklearn.linear_model import LogisticRegression\n",
    "from sklearn.ensemble import RandomForestClassifier\n",
    "from sklearn.tree import DecisionTreeClassifier\n",
    "from sklearn.preprocessing import StandardScaler, MinMaxScaler, RobustScaler\n",
    "\n",
    "# дополнительные классы для преобразования данных\n",
    "from sklearn.preprocessing import OneHotEncoder, StandardScaler, MinMaxScaler, RobustScaler\n",
    "\n",
    "from sklearn.model_selection import RandomizedSearchCV\n",
    "\n",
    "import warnings\n",
    "warnings.filterwarnings(\"ignore\", category=FutureWarning)\n",
    "\n",
    "from sklearn.impute import SimpleImputer\n",
    "\n",
    "RANDOM_STATE = 22"
   ]
  },
  {
   "cell_type": "markdown",
   "id": "ebe6d677",
   "metadata": {},
   "source": [
    "### Загрузка исследуемых таблиц"
   ]
  },
  {
   "cell_type": "code",
   "execution_count": 4,
   "id": "e8ea1459",
   "metadata": {},
   "outputs": [
    {
     "name": "stdout",
     "output_type": "stream",
     "text": [
      "Файл kaggle_startups_train_28062024.csv успешно загружен\n",
      "Файл kaggle_startups_test_28062024.csv успешно загружен\n"
     ]
    }
   ],
   "source": [
    "try:\n",
    "    data_train = pd.read_csv('kaggle_startups_train_28062024.csv')\n",
    "    print(f'Файл kaggle_startups_train_28062024.csv успешно загружен')\n",
    "except:\n",
    "    print('Не удалось загрузить таблицу с тестовыми данными')\n",
    "    \n",
    "try:\n",
    "    data_test = pd.read_csv('kaggle_startups_test_28062024.csv')\n",
    "    print(f'Файл kaggle_startups_test_28062024.csv успешно загружен')\n",
    "except:\n",
    "    print('Не удалось загрузить таблицу с тестовыми данными')"
   ]
  },
  {
   "cell_type": "markdown",
   "id": "a0340d5b",
   "metadata": {},
   "source": [
    "Так же сразу помсмотрим на общую информацию загруженных таблиц"
   ]
  },
  {
   "cell_type": "code",
   "execution_count": 5,
   "id": "8d05253e",
   "metadata": {
    "scrolled": false
   },
   "outputs": [
    {
     "name": "stdout",
     "output_type": "stream",
     "text": [
      "=== Общая информация трениров. выборки ===\n",
      "<class 'pandas.core.frame.DataFrame'>\n",
      "RangeIndex: 52516 entries, 0 to 52515\n",
      "Data columns (total 13 columns):\n",
      " #   Column             Non-Null Count  Dtype  \n",
      "---  ------             --------------  -----  \n",
      " 0   name               52515 non-null  object \n",
      " 1   category_list      50051 non-null  object \n",
      " 2   funding_total_usd  42447 non-null  float64\n",
      " 3   status             52516 non-null  object \n",
      " 4   country_code       47014 non-null  object \n",
      " 5   state_code         45753 non-null  object \n",
      " 6   region             46157 non-null  object \n",
      " 7   city               46157 non-null  object \n",
      " 8   funding_rounds     52516 non-null  int64  \n",
      " 9   founded_at         52516 non-null  object \n",
      " 10  first_funding_at   52516 non-null  object \n",
      " 11  last_funding_at    52516 non-null  object \n",
      " 12  closed_at          4917 non-null   object \n",
      "dtypes: float64(1), int64(1), object(11)\n",
      "memory usage: 5.2+ MB\n",
      "None\n",
      "\n",
      "=== Описательная статистика для числовых признаков трениров. выборки ===\n",
      "       funding_total_usd  funding_rounds\n",
      "count       4.244700e+04    52516.000000\n",
      "mean        1.824748e+07        1.740670\n",
      "std         1.871173e+08        1.374522\n",
      "min         1.000000e+00        1.000000\n",
      "25%         3.360275e+05        1.000000\n",
      "50%         2.000000e+06        1.000000\n",
      "75%         1.000000e+07        2.000000\n",
      "max         3.007950e+10       19.000000\n",
      "\n",
      "=== Пропущенныйе значения в трениров. выборке ===\n",
      "name                     1\n",
      "category_list         2465\n",
      "funding_total_usd    10069\n",
      "status                   0\n",
      "country_code          5502\n",
      "state_code            6763\n",
      "region                6359\n",
      "city                  6359\n",
      "funding_rounds           0\n",
      "founded_at               0\n",
      "first_funding_at         0\n",
      "last_funding_at          0\n",
      "closed_at            47599\n",
      "dtype: int64\n",
      "\n",
      "=== Общая информация тест. выборки ===\n",
      "<class 'pandas.core.frame.DataFrame'>\n",
      "RangeIndex: 13125 entries, 0 to 13124\n",
      "Data columns (total 11 columns):\n",
      " #   Column             Non-Null Count  Dtype  \n",
      "---  ------             --------------  -----  \n",
      " 0   name               13125 non-null  object \n",
      " 1   category_list      12534 non-null  object \n",
      " 2   funding_total_usd  10547 non-null  float64\n",
      " 3   country_code       11743 non-null  object \n",
      " 4   state_code         11430 non-null  object \n",
      " 5   region             11536 non-null  object \n",
      " 6   city               11538 non-null  object \n",
      " 7   funding_rounds     13125 non-null  int64  \n",
      " 8   first_funding_at   13125 non-null  object \n",
      " 9   last_funding_at    13125 non-null  object \n",
      " 10  lifetime           13125 non-null  int64  \n",
      "dtypes: float64(1), int64(2), object(8)\n",
      "memory usage: 1.1+ MB\n",
      "None\n",
      "\n",
      "=== Описательная статистика для числовых признаков тест. выборки ===\n",
      "       funding_total_usd  funding_rounds      lifetime\n",
      "count       1.054700e+04    13125.000000  13125.000000\n",
      "mean        1.654910e+07        1.714438   3097.609524\n",
      "std         9.217283e+07        1.318800   2128.356554\n",
      "min         1.000000e+00        1.000000     52.000000\n",
      "25%         3.200000e+05        1.000000   1726.000000\n",
      "50%         2.000000e+06        1.000000   2526.000000\n",
      "75%         1.000000e+07        2.000000   3866.000000\n",
      "max         4.715000e+09       15.000000  17167.000000\n",
      "\n",
      "=== Пропущенныйе значения в тест. выборке ===\n",
      "name                    0\n",
      "category_list         591\n",
      "funding_total_usd    2578\n",
      "country_code         1382\n",
      "state_code           1695\n",
      "region               1589\n",
      "city                 1587\n",
      "funding_rounds          0\n",
      "first_funding_at        0\n",
      "last_funding_at         0\n",
      "lifetime                0\n",
      "dtype: int64\n",
      "\n"
     ]
    }
   ],
   "source": [
    "data_dic = {\n",
    "    'трениров.': data_train, \n",
    "    'тест.' : data_test\n",
    "}\n",
    "\n",
    "for key in data_dic:\n",
    "    print(f'=== Общая информация {key} выборки ===')\n",
    "    print(data_dic[key].info())\n",
    "    print()\n",
    "    print(f'=== Описательная статистика для числовых признаков {key} выборки ===')\n",
    "    print(data_dic[key].describe())\n",
    "    print()\n",
    "    print(f'=== Пропущенныйе значения в {key} выборке ===')\n",
    "    print(data_dic[key].isnull().sum())\n",
    "    print()"
   ]
  },
  {
   "cell_type": "markdown",
   "id": "04d1fb84",
   "metadata": {},
   "source": [
    "Выводы по данным:\n",
    "\n",
    "**Количество признаков данных** - тренировочная выборка состоит из 53 000 записей и 11 признаков, в то время как в тестовой выборке 13 000 записей, но 10 признаков(не берем в счет столбец `name` и `status`). Это обусловлено отсутсвием столбца `lifetime` в тренировочной выборке. Далее будет реализовано его добавление в выборку. \n",
    "\n",
    "**Пропущенные значения**  - в обоих наборах данных есть большое количество пропусков в некоторых столбцах - эти пропуски нужно будет обработать. Предположительно можно будет заменить значения наиболее встречающимися или воспользоваться другими способами\n",
    "\n",
    "**Описательная статистика данных** - Данные показывают разнообразное распределение\n"
   ]
  },
  {
   "cell_type": "markdown",
   "id": "5e318358",
   "metadata": {},
   "source": [
    "### Визуализация пропусков в наборах данных"
   ]
  },
  {
   "cell_type": "code",
   "execution_count": 6,
   "id": "a8c9aca4",
   "metadata": {},
   "outputs": [
    {
     "data": {
      "image/png": "[encoded data removed]",
      "text/plain": [
       "<Figure size 864x432 with 1 Axes>"
      ]
     },
     "metadata": {
      "needs_background": "light"
     },
     "output_type": "display_data"
    },
    {
     "data": {
      "image/png": "[encoded data removed]",
      "text/plain": [
       "<Figure size 864x432 with 1 Axes>"
      ]
     },
     "metadata": {
      "needs_background": "light"
     },
     "output_type": "display_data"
    }
   ],
   "source": [
    "# Визуализация пропусков в тренировочном наборе данных\n",
    "plt.figure(figsize=(12,6))\n",
    "sns.heatmap(data_train.isnull(), cbar=False, cmap='viridis')\n",
    "plt.title('Пропущенные значения в тренировочном наборе данных')\n",
    "plt.show()\n",
    "\n",
    "# Визуализация пропусков в тестовом наборе данных\n",
    "plt.figure(figsize=(12,6))\n",
    "sns.heatmap(data_test.isnull(), cbar=False, cmap='viridis')\n",
    "plt.title('Пропущенные значения в тестовом наборе данных')\n",
    "plt.show()"
   ]
  },
  {
   "cell_type": "markdown",
   "id": "1f3322eb",
   "metadata": {},
   "source": [
    "Можно увидеть множество пропусков в различных столбцах. Однако больше всего  пропусков в столбце closed at. Это можно объяснить либо тем, что компания все еще работает либо тем, что данных об этом нет. \n",
    "\n",
    "Для начала добавим признак `lifetime` в тренировочную выборку"
   ]
  },
  {
   "cell_type": "code",
   "execution_count": 7,
   "id": "4c36615f",
   "metadata": {},
   "outputs": [],
   "source": [
    "def create_lifetime(row, cutoff_date):\n",
    "    try:\n",
    "        founded_at = datetime.strptime(row['founded_at'], '%Y-%m-%d')\n",
    "    except:\n",
    "        return (cutoff_date - datetime.strptime('1970-01-01', '%Y-%m-%d')).days\n",
    "    if pd.notnull(row['closed_at']):\n",
    "        try:\n",
    "            closed_at = datetime.strptime(row['closed_at'], '%Y-%m-%d')\n",
    "            return (closed_at - founded_at).days\n",
    "        except:\n",
    "            return (cutoff_date - founded_at).days\n",
    "    else:\n",
    "        return (cutoff_date - founded_at).days\n",
    "    \n",
    "cutoff_date = datetime.strptime('2018-01-01', '%Y-%m-%d')\n",
    "\n",
    "data_train['lifetime'] = data_train.apply(lambda row: create_lifetime(row, cutoff_date), axis=1)"
   ]
  },
  {
   "cell_type": "markdown",
   "id": "86b659d0",
   "metadata": {},
   "source": [
    "Так же заполним по возможности все остальные пропуски в обоих датасетах. Для начала выделим количественные и категориальные признаки."
   ]
  },
  {
   "cell_type": "code",
   "execution_count": 8,
   "id": "792a8095",
   "metadata": {},
   "outputs": [],
   "source": [
    "cat_features = ['category_list', 'country_code', 'state_code', 'region', 'city']\n",
    "\n",
    "num_features = ['funding_total_usd', 'funding_rounds', 'lifetime']"
   ]
  },
  {
   "cell_type": "markdown",
   "id": "356e189c",
   "metadata": {},
   "source": [
    "Заполним пропуски - для количественных значений поставим медианные значения. Пропуски в категориальных признаках заменим значением 'Unknown', поскольку не ясна природа возникновения пропусков\n",
    "\n",
    "Единственным пропуском, который не будет заполнен, является пропуск в признаке `name` в тренировочном датасете. Строку с этим пропуском удалим."
   ]
  },
  {
   "cell_type": "code",
   "execution_count": 9,
   "id": "2eab2513",
   "metadata": {},
   "outputs": [],
   "source": [
    "numeric_imputer = SimpleImputer(strategy='median')\n",
    "data_train[num_features] = numeric_imputer.fit_transform(data_train[num_features])\n",
    "data_test[num_features] = numeric_imputer.transform(data_test[num_features])\n",
    "\n",
    "categorial_imputer = SimpleImputer(strategy='constant', fill_value='Unknown')\n",
    "data_train[cat_features] = categorial_imputer.fit_transform(data_train[cat_features])\n",
    "data_test[cat_features] = categorial_imputer.transform(data_test[cat_features])\n",
    "\n",
    "data_train = data_train.dropna(subset=['name'])"
   ]
  },
  {
   "cell_type": "markdown",
   "id": "4d031ded",
   "metadata": {},
   "source": [
    "Убедимся в отсутствии пропусков в выборке"
   ]
  },
  {
   "cell_type": "code",
   "execution_count": 10,
   "id": "54cc4c81",
   "metadata": {},
   "outputs": [
    {
     "data": {
      "image/png": "[encoded data removed]",
      "text/plain": [
       "<Figure size 864x432 with 1 Axes>"
      ]
     },
     "metadata": {
      "needs_background": "light"
     },
     "output_type": "display_data"
    },
    {
     "data": {
      "image/png": "[encoded data removed]",
      "text/plain": [
       "<Figure size 864x432 with 1 Axes>"
      ]
     },
     "metadata": {
      "needs_background": "light"
     },
     "output_type": "display_data"
    }
   ],
   "source": [
    "# Визуализация пропусков в тренировочном наборе данных\n",
    "plt.figure(figsize=(12,6))\n",
    "sns.heatmap(data_train.isnull(), cbar=False, cmap='viridis')\n",
    "plt.title('Пропущенные значения в тренировочном наборе данных')\n",
    "plt.show()\n",
    "\n",
    "# Визуализация пропусков в тестовом наборе данных\n",
    "plt.figure(figsize=(12,6))\n",
    "sns.heatmap(data_test.isnull(), cbar=False, cmap='viridis')\n",
    "plt.title('Пропущенные значения в тестовом наборе данных')\n",
    "plt.show()"
   ]
  },
  {
   "cell_type": "markdown",
   "id": "b3b66ba3",
   "metadata": {},
   "source": [
    "### Исследование дубликатов в данных\n",
    "\n",
    "Проверим сколько в данных полностью дублирующихся строк"
   ]
  },
  {
   "cell_type": "code",
   "execution_count": 11,
   "id": "993f8f9b",
   "metadata": {},
   "outputs": [
    {
     "name": "stdout",
     "output_type": "stream",
     "text": [
      "Количество полных дубликатов в таблице data_train: 0\n",
      "Количество полных дубликатов в таблице data_test: 0\n"
     ]
    }
   ],
   "source": [
    "print(f'Количество полных дубликатов в таблице data_train: {data_train.duplicated().sum()}')\n",
    "\n",
    "print(f'Количество полных дубликатов в таблице data_test: {data_test.duplicated().sum()}')"
   ]
  },
  {
   "cell_type": "markdown",
   "id": "0d6668fb",
   "metadata": {},
   "source": [
    "Полных дубликатов в выбоках не обнаружено. Однако так же следует проверить наличие дубликатов в столбце `name`, поскольку значения этого столбца должны быть уникальны для каждой строки"
   ]
  },
  {
   "cell_type": "code",
   "execution_count": 12,
   "id": "86ac41b3",
   "metadata": {},
   "outputs": [
    {
     "name": "stdout",
     "output_type": "stream",
     "text": [
      "Количество полных дубликатов в столбце name: 0\n"
     ]
    }
   ],
   "source": [
    "data_train_name_duplcated = data_train.duplicated(subset='name').sum()\n",
    "\n",
    "print(f'Количество полных дубликатов в столбце name: {data_train_name_duplcated}')"
   ]
  },
  {
   "cell_type": "markdown",
   "id": "da181a4f",
   "metadata": {},
   "source": [
    "Дубликатов в столбце `name` также не обнаружено"
   ]
  },
  {
   "cell_type": "markdown",
   "id": "7cdd40d5",
   "metadata": {},
   "source": [
    "## Разведочный анализ данных\n",
    "### Добавление новых признаков"
   ]
  },
  {
   "cell_type": "markdown",
   "id": "11157fc7",
   "metadata": {},
   "source": [
    "Для анализа признаков использовать столбцы дат(например `founded_at` и `closed_at`) неудобно. Поэтому добавим новые столбцы, для того, чтобы лучше можно было анализировать даты. Из каждого столбца с датой возьмем только год. "
   ]
  },
  {
   "cell_type": "code",
   "execution_count": 13,
   "id": "b5874f44",
   "metadata": {},
   "outputs": [],
   "source": [
    "train_analysis = data_train.copy()\n",
    "test_analysis = data_test.copy()\n",
    "# Добавление нового признака, чтобы потом отделить выборки друг от друга\n",
    "train_analysis['type'] = 'train'\n",
    "test_analysis['type'] = 'test'\n",
    "# Объединение выборок для удобства создания новых признаков\n",
    "full_analysis = pd.concat([train_analysis, test_analysis], ignore_index=True)\n",
    "\n",
    "#Преобразование данных в тип datetime\n",
    "for col in ['founded_at', 'first_funding_at', 'last_funding_at', 'closed_at']:\n",
    "    full_analysis[col] = pd.to_datetime(full_analysis[col], errors='coerce')\n",
    "\n",
    "full_analysis['founded_at'] = full_analysis['founded_at'].dt.year\n",
    "full_analysis['first_funding_at'] = full_analysis['first_funding_at'].dt.year\n",
    "full_analysis['last_funding_at'] = full_analysis['last_funding_at'].dt.year\n",
    "full_analysis['closed_at'] = full_analysis['closed_at'].dt.year\n",
    "\n",
    "# Разделение выборок, для будущего анализа\n",
    "train_analysis = full_analysis[full_analysis['type'] == 'train']\n",
    "test_analysis = full_analysis[full_analysis['type'] == 'test']"
   ]
  },
  {
   "cell_type": "code",
   "execution_count": 14,
   "id": "2d857b7a",
   "metadata": {},
   "outputs": [
    {
     "data": {
      "text/html": [
       "<div>\n",
       "<style scoped>\n",
       "    .dataframe tbody tr th:only-of-type {\n",
       "        vertical-align: middle;\n",
       "    }\n",
       "\n",
       "    .dataframe tbody tr th {\n",
       "        vertical-align: top;\n",
       "    }\n",
       "\n",
       "    .dataframe thead th {\n",
       "        text-align: right;\n",
       "    }\n",
       "</style>\n",
       "<table border=\"1\" class=\"dataframe\">\n",
       "  <thead>\n",
       "    <tr style=\"text-align: right;\">\n",
       "      <th></th>\n",
       "      <th>name</th>\n",
       "      <th>category_list</th>\n",
       "      <th>funding_total_usd</th>\n",
       "      <th>status</th>\n",
       "      <th>country_code</th>\n",
       "      <th>state_code</th>\n",
       "      <th>region</th>\n",
       "      <th>city</th>\n",
       "      <th>funding_rounds</th>\n",
       "      <th>founded_at</th>\n",
       "      <th>first_funding_at</th>\n",
       "      <th>last_funding_at</th>\n",
       "      <th>closed_at</th>\n",
       "      <th>lifetime</th>\n",
       "      <th>type</th>\n",
       "    </tr>\n",
       "  </thead>\n",
       "  <tbody>\n",
       "    <tr>\n",
       "      <th>52515</th>\n",
       "      <td>Crystalsol</td>\n",
       "      <td>Clean Technology</td>\n",
       "      <td>2819200.0</td>\n",
       "      <td>NaN</td>\n",
       "      <td>NIC</td>\n",
       "      <td>17</td>\n",
       "      <td>Unknown</td>\n",
       "      <td>Unknown</td>\n",
       "      <td>1.0</td>\n",
       "      <td>NaN</td>\n",
       "      <td>2009</td>\n",
       "      <td>2009</td>\n",
       "      <td>NaN</td>\n",
       "      <td>3501.0</td>\n",
       "      <td>test</td>\n",
       "    </tr>\n",
       "    <tr>\n",
       "      <th>52516</th>\n",
       "      <td>JBI Fish &amp; Wings</td>\n",
       "      <td>Hospitality</td>\n",
       "      <td>2000000.0</td>\n",
       "      <td>NaN</td>\n",
       "      <td>USA</td>\n",
       "      <td>TN</td>\n",
       "      <td>TN - Other</td>\n",
       "      <td>Humboldt</td>\n",
       "      <td>1.0</td>\n",
       "      <td>NaN</td>\n",
       "      <td>2010</td>\n",
       "      <td>2010</td>\n",
       "      <td>NaN</td>\n",
       "      <td>2717.0</td>\n",
       "      <td>test</td>\n",
       "    </tr>\n",
       "    <tr>\n",
       "      <th>52517</th>\n",
       "      <td>COINPLUS</td>\n",
       "      <td>Finance</td>\n",
       "      <td>428257.0</td>\n",
       "      <td>NaN</td>\n",
       "      <td>LUX</td>\n",
       "      <td>3</td>\n",
       "      <td>Esch-sur-alzette</td>\n",
       "      <td>Esch-sur-alzette</td>\n",
       "      <td>2.0</td>\n",
       "      <td>NaN</td>\n",
       "      <td>2014</td>\n",
       "      <td>2014</td>\n",
       "      <td>NaN</td>\n",
       "      <td>1295.0</td>\n",
       "      <td>test</td>\n",
       "    </tr>\n",
       "    <tr>\n",
       "      <th>52518</th>\n",
       "      <td>Imagine Communications</td>\n",
       "      <td>Software|Video|Video Streaming</td>\n",
       "      <td>34700000.0</td>\n",
       "      <td>NaN</td>\n",
       "      <td>USA</td>\n",
       "      <td>CA</td>\n",
       "      <td>San Diego</td>\n",
       "      <td>San Diego</td>\n",
       "      <td>4.0</td>\n",
       "      <td>NaN</td>\n",
       "      <td>2005</td>\n",
       "      <td>2010</td>\n",
       "      <td>NaN</td>\n",
       "      <td>4748.0</td>\n",
       "      <td>test</td>\n",
       "    </tr>\n",
       "    <tr>\n",
       "      <th>52519</th>\n",
       "      <td>DNA13</td>\n",
       "      <td>Software</td>\n",
       "      <td>4530000.0</td>\n",
       "      <td>NaN</td>\n",
       "      <td>CAN</td>\n",
       "      <td>ON</td>\n",
       "      <td>Ottawa</td>\n",
       "      <td>Ottawa</td>\n",
       "      <td>1.0</td>\n",
       "      <td>NaN</td>\n",
       "      <td>2007</td>\n",
       "      <td>2007</td>\n",
       "      <td>NaN</td>\n",
       "      <td>6209.0</td>\n",
       "      <td>test</td>\n",
       "    </tr>\n",
       "  </tbody>\n",
       "</table>\n",
       "</div>"
      ],
      "text/plain": [
       "                         name                   category_list  \\\n",
       "52515              Crystalsol                Clean Technology   \n",
       "52516        JBI Fish & Wings                     Hospitality   \n",
       "52517                COINPLUS                         Finance   \n",
       "52518  Imagine Communications  Software|Video|Video Streaming   \n",
       "52519                   DNA13                        Software   \n",
       "\n",
       "       funding_total_usd status country_code state_code            region  \\\n",
       "52515          2819200.0    NaN          NIC         17           Unknown   \n",
       "52516          2000000.0    NaN          USA         TN        TN - Other   \n",
       "52517           428257.0    NaN          LUX          3  Esch-sur-alzette   \n",
       "52518         34700000.0    NaN          USA         CA         San Diego   \n",
       "52519          4530000.0    NaN          CAN         ON            Ottawa   \n",
       "\n",
       "                   city  funding_rounds  founded_at  first_funding_at  \\\n",
       "52515           Unknown             1.0         NaN              2009   \n",
       "52516          Humboldt             1.0         NaN              2010   \n",
       "52517  Esch-sur-alzette             2.0         NaN              2014   \n",
       "52518         San Diego             4.0         NaN              2005   \n",
       "52519            Ottawa             1.0         NaN              2007   \n",
       "\n",
       "       last_funding_at  closed_at  lifetime  type  \n",
       "52515             2009        NaN    3501.0  test  \n",
       "52516             2010        NaN    2717.0  test  \n",
       "52517             2014        NaN    1295.0  test  \n",
       "52518             2010        NaN    4748.0  test  \n",
       "52519             2007        NaN    6209.0  test  "
      ]
     },
     "execution_count": 14,
     "metadata": {},
     "output_type": "execute_result"
    }
   ],
   "source": [
    "test_analysis.head()"
   ]
  },
  {
   "cell_type": "markdown",
   "id": "d8c5efb1",
   "metadata": {},
   "source": [
    "### Анализ количественных признаков"
   ]
  },
  {
   "cell_type": "markdown",
   "id": "7483cdc7",
   "metadata": {},
   "source": [
    "Визуализируем распределения признаков, для их анализа."
   ]
  },
  {
   "cell_type": "code",
   "execution_count": 15,
   "id": "6a637a28",
   "metadata": {
    "scrolled": false
   },
   "outputs": [
    {
     "data": {
      "image/png": "[encoded data removed]",
      "text/plain": [
       "<Figure size 936x864 with 2 Axes>"
      ]
     },
     "metadata": {
      "needs_background": "light"
     },
     "output_type": "display_data"
    },
    {
     "data": {
      "image/png": "[encoded data removed]",
      "text/plain": [
       "<Figure size 936x864 with 2 Axes>"
      ]
     },
     "metadata": {
      "needs_background": "light"
     },
     "output_type": "display_data"
    },
    {
     "data": {
      "image/png": "[encoded data removed]",
      "text/plain": [
       "<Figure size 936x864 with 2 Axes>"
      ]
     },
     "metadata": {
      "needs_background": "light"
     },
     "output_type": "display_data"
    },
    {
     "data": {
      "image/png": "[encoded data removed]",
      "text/plain": [
       "<Figure size 936x864 with 2 Axes>"
      ]
     },
     "metadata": {
      "needs_background": "light"
     },
     "output_type": "display_data"
    },
    {
     "data": {
      "image/png": "[encoded data removed]",
      "text/plain": [
       "<Figure size 936x864 with 2 Axes>"
      ]
     },
     "metadata": {
      "needs_background": "light"
     },
     "output_type": "display_data"
    },
    {
     "data": {
      "image/png": "[encoded data removed]",
      "text/plain": [
       "<Figure size 936x864 with 2 Axes>"
      ]
     },
     "metadata": {
      "needs_background": "light"
     },
     "output_type": "display_data"
    },
    {
     "data": {
      "image/png": "[encoded data removed]",
      "text/plain": [
       "<Figure size 936x864 with 2 Axes>"
      ]
     },
     "metadata": {
      "needs_background": "light"
     },
     "output_type": "display_data"
    }
   ],
   "source": [
    "def hist_boxplot_two_df(column_train, column_test, column_full, target_column):  # Функция для построения гистограмм и диаграмм размаха\n",
    "    plt.figure(figsize=(13, 12))\n",
    "    \n",
    "    # Гистограмма\n",
    "    plt.subplot(2, 1, 1)\n",
    "    plt.title(f'Гистограмма значений: {column_train.name}')\n",
    "    plt.xlabel(f'Значение столбца: {column_train.name}')\n",
    "    plt.ylabel('Плотность распределения')\n",
    "    plt.hist(column_train, bins=30, color='blue', edgecolor='black', alpha=0.7, label='Train')\n",
    "    plt.hist(column_test, bins=30, color='red', edgecolor='black', alpha=0.7, label='Test')\n",
    "    plt.legend()\n",
    "    \n",
    "    # Boxplot по группам целевого признака\n",
    "    plt.subplot(2, 1, 2)\n",
    "    plt.title(f'Boxplot по группам целевого признака')\n",
    "    sns.boxplot(x=target_column, y=column_full)\n",
    "    plt.xlabel('status')\n",
    "    plt.ylabel(f'Значение столбца: {column_train.name}')\n",
    "    \n",
    "    plt.tight_layout()\n",
    "    plt.show()\n",
    "    \n",
    "    \n",
    "def hist_boxplot_one_df(column, target_column):\n",
    "    plt.figure(figsize=(13, 12))\n",
    "    # Гистограмма\n",
    "    plt.subplot(2, 1, 1)\n",
    "    plt.title(f'Гистограмма значений: {column.name}')\n",
    "    plt.xlabel(f'Значение столбца: {column.name}')\n",
    "    plt.ylabel('Плотность распределения')\n",
    "    plt.hist(column, bins=30, color='blue', edgecolor='black', alpha=0.7)\n",
    "\n",
    "    \n",
    "    # Boxplot по группам целевого признака\n",
    "    plt.subplot(2, 1, 2)\n",
    "    plt.title(f'Boxplot по группам целевого признака')\n",
    "    sns.boxplot(x=target_column, y=column)\n",
    "    plt.xlabel('status')\n",
    "    plt.ylabel(f'Значение столбца: {column.name}')\n",
    "    \n",
    "    plt.tight_layout()\n",
    "    plt.show()\n",
    "\n",
    "num_features =  ['funding_total_usd', 'funding_rounds', 'lifetime', 'first_funding_at', 'last_funding_at', 'founded_at', 'closed_at']\n",
    "    \n",
    "full_analysis_num_columns = ['funding_total_usd', 'funding_rounds', 'lifetime', 'first_funding_at', 'last_funding_at']\n",
    "\n",
    "for column in full_analysis_num_columns:\n",
    "    hist_boxplot_two_df(train_analysis[column], test_analysis[column], full_analysis[column], train_analysis['status'])\n",
    "    \n",
    "train_analysis_num_column = ['founded_at', 'closed_at']\n",
    "\n",
    "for column in train_analysis_num_column:\n",
    "    hist_boxplot_one_df(train_analysis[column], train_analysis['status'])"
   ]
  },
  {
   "cell_type": "markdown",
   "id": "c4905a1b",
   "metadata": {},
   "source": [
    "***Разведывательный анализ данных (EDA)***\n",
    "\n",
    "* 1. `funding_total_usd`\n",
    "- Большинство стартапов имеют небольшое финансирование.\n",
    "- Действующие стартапы чаще имеют более высокое финансирование (много выбросов).\n",
    "- **Вывод:** высокая сумма инвестиций положительно коррелирует с выживаемостью.\n",
    "\n",
    "\n",
    "* 2. `funding_rounds`\n",
    "- Наиболее частое значение — 1–3 раунда.\n",
    "- Действующие стартапы имеют больше раундов, чем закрытые.\n",
    "- **Вывод:** количество раундов — важный признак устойчивости компании.\n",
    "\n",
    "\n",
    "* 3. `lifetime`\n",
    "- Действующие стартапы живут дольше (медиана выше).\n",
    "- **Вывод:** продолжительность жизни напрямую связана с вероятностью быть активным.\n",
    "\n",
    "\n",
    "* 4. `first_funding_at` и `last_funding_at`\n",
    "- Активные стартапы получили финансирование позже, чем закрытые.\n",
    "- **Вывод:** дата последнего финансирования — важный временной индикатор.\n",
    "\n",
    "\n",
    "* 5. `founded_at`\n",
    "- Большинство стартапов основано после 2005 года.\n",
    "- Закрытые чаще были основаны раньше.\n",
    "- **Вывод:** более молодые стартапы чаще ещё активны.\n",
    "\n",
    "\n",
    "* Общие замечания:\n",
    "- Распределения асимметричны — полезно применить лог-преобразования.\n",
    "- Признаки `lifetime`, `funding_total_usd`, `funding_rounds`, `last_funding_at` — ключевые для модели.\n"
   ]
  },
  {
   "cell_type": "markdown",
   "id": "e6d4bba4",
   "metadata": {},
   "source": [
    "### Анализ качественных признаков\n",
    "Для начала определим количественные признаки и посмотрим на их количество в каждом столбце"
   ]
  },
  {
   "cell_type": "code",
   "execution_count": 16,
   "id": "fa9378f7",
   "metadata": {},
   "outputs": [
    {
     "name": "stdout",
     "output_type": "stream",
     "text": [
      "Количество уникальных значений в столбце category_list: 27070\n",
      "Количество уникальных значений в столбце country_code: 138\n",
      "Количество уникальных значений в столбце region: 1091\n",
      "Количество уникальных значений в столбце city: 5056\n"
     ]
    }
   ],
   "source": [
    "cat_analysis_features = ['category_list', 'country_code', 'region', 'city']\n",
    "\n",
    "for column in cat_analysis_features:\n",
    "    amount_category = full_analysis[column].nunique()\n",
    "    print(f'Количество уникальных значений в столбце {column}: {amount_category}')"
   ]
  },
  {
   "cell_type": "markdown",
   "id": "d4158186",
   "metadata": {},
   "source": [
    "Количество уникальных наименований в каждом признаке довольно велико. Поэтому будем брать в рассчет только первые 15 категорий, остальный отнесем в отдельную общую категорию"
   ]
  },
  {
   "cell_type": "code",
   "execution_count": 17,
   "id": "8affab10",
   "metadata": {
    "scrolled": false
   },
   "outputs": [
    {
     "data": {
      "image/png": "[encoded data removed]",
      "text/plain": [
       "<Figure size 864x936 with 2 Axes>"
      ]
     },
     "metadata": {
      "needs_background": "light"
     },
     "output_type": "display_data"
    },
    {
     "data": {
      "image/png": "[encoded data removed]",
      "text/plain": [
       "<Figure size 864x936 with 2 Axes>"
      ]
     },
     "metadata": {
      "needs_background": "light"
     },
     "output_type": "display_data"
    },
    {
     "data": {
      "image/png": "[encoded data removed]",
      "text/plain": [
       "<Figure size 864x936 with 2 Axes>"
      ]
     },
     "metadata": {
      "needs_background": "light"
     },
     "output_type": "display_data"
    },
    {
     "data": {
      "image/png": "[encoded data removed]",
      "text/plain": [
       "<Figure size 864x936 with 2 Axes>"
      ]
     },
     "metadata": {
      "needs_background": "light"
     },
     "output_type": "display_data"
    }
   ],
   "source": [
    "top_n = 15\n",
    "\n",
    "def countplot_cat(column, target_column):\n",
    "    plt.figure(figsize=(12, 13))  # Поменяли размеры для лучшего отображения\n",
    "    plt.subplot(2, 1, 1)\n",
    "    # Заменяем редкие значения на 'other'\n",
    "    top_values = column.value_counts().head(top_n).index\n",
    "    column_grouped = column.where(column.isin(top_values), 'other')\n",
    "    \n",
    "    # Сортируем по убыванию (кроме 'other')\n",
    "    value_counts = column_grouped.value_counts()\n",
    "    sorted_categories = value_counts[value_counts.index != 'other'] \\\n",
    "                          .sort_values(ascending=False) \\\n",
    "                          .index.tolist()\n",
    "    sorted_categories.append('other')  # 'other' всегда в конце\n",
    "    \n",
    "    # Рисуем ГОРИЗОНТАЛЬНЫЙ график (заменили x на y)\n",
    "    sns.countplot(\n",
    "        y=column_grouped,  # Изменили x на y для горизонтальной ориентации\n",
    "        palette='viridis',\n",
    "        order=sorted_categories\n",
    "    )\n",
    "    \n",
    "    plt.title(f'Распределение категории {column.name}')\n",
    "    plt.ylabel(f'Значение признака {column.name}')  # Поменяли xlabel на ylabel\n",
    "    plt.xlabel(\"Количество значений\")  # Поменяли ylabel на xlabel\n",
    "    plt.tight_layout()  # Добавили для корректного отображения подписей\n",
    "    \n",
    "    plt.subplot(2, 1, 2)\n",
    "    # Создаем DataFrame для построения графика\n",
    "    plot_data = pd.DataFrame({\n",
    "        'category': column_grouped,\n",
    "        'status': target_column\n",
    "    })    \n",
    "    # Сортируем категории по частоте (по убыванию), кроме 'other'\n",
    "    category_order = plot_data['category'].value_counts() \\\n",
    "                       .loc[lambda x: x.index != 'other'] \\\n",
    "                       .sort_values(ascending=False) \\\n",
    "                       .index.tolist()\n",
    "    category_order.append('other')  # 'other' всегда в конце\n",
    "    \n",
    "    # Строим группированный countplot\n",
    "    sns.countplot(\n",
    "        y='category',\n",
    "        hue='status',\n",
    "        data=plot_data,\n",
    "        order=category_order,\n",
    "        palette={'operating': '#1f77b4', 'closed': '#ff7f0e'},  # Цвета для каждого статуса\n",
    "        edgecolor='black',\n",
    "        linewidth=0.5\n",
    "    )\n",
    "    \n",
    "    plt.title(f'Распределение категорий по статусам: {column.name}')\n",
    "    plt.ylabel('Категории')\n",
    "    plt.xlabel('Количество')\n",
    "    plt.legend(title='Статус компании')\n",
    "    plt.tight_layout()\n",
    "    plt.show()\n",
    "\n",
    "for column in cat_analysis_features:\n",
    "    countplot_cat(full_analysis[column], train_analysis['status'])"
   ]
  },
  {
   "cell_type": "markdown",
   "id": "30ad935c",
   "metadata": {},
   "source": [
    "* Анализ категориальных признаков\n",
    "\n",
    "* `category_list`\n",
    "  - Наиболее частые категории: `other`, `Software`, `Biotechnology`, `Unknown`.\n",
    "  - Наибольшее количество действующих стартапов наблюдается в категориях `Software`, `Biotechnology`, `E-Commerce`.\n",
    "  - **Вывод:** категориальный признак значим для модели. Стартапы в технологических и биомедицинских категориях чаще продолжают работу.\n",
    "\n",
    "\n",
    "* `country_code`\n",
    "  - Большинство стартапов зарегистрировано в США, далее следуют Великобритания, Канада, Индия.\n",
    "  - В США наблюдается более высокая доля действующих компаний.\n",
    "  - **Вывод:** страна регистрации оказывает влияние на статус компании. Стартапы из США демонстрируют лучшую выживаемость.\n",
    "\n",
    "\n",
    "* `region`\n",
    "  - Популярные регионы: SF Bay Area, New York City, Boston, London.\n",
    "  - В SF Bay Area и NYC преобладают действующие компании.\n",
    "  - **Вывод:** расположение в крупных технологических центрах повышает шансы на выживание.\n",
    "\n",
    "\n",
    "* `city`\n",
    "  - Лидируют: San Francisco, New York, London, Austin, Palo Alto.\n",
    "  - В городах с развитой стартап-инфраструктурой доля закрытых компаний ниже.\n",
    "  - **Вывод:** географическое положение на уровне города может служить дополнительным предиктором.\n",
    "\n",
    "\n",
    "* Общие замечания:\n",
    "  - Категория `other` используется для объединения редких значений и может сохраняться в модели как универсальный обобщённый класс.\n",
    "  - Категория `unknown` обозначает отсутствие данных. В ряде случаев (например, `country_code`, `region`) она коррелирует с закрытием стартапов и может быть полезна.\n",
    "  - Наиболее значимое влияние на целевой признак оказывают следующие категориальные переменные: `category_list`, `country_code`, `region`, так как в них наблюдаются выраженные различия в распределении между статусами `operating` и `closed`."
   ]
  },
  {
   "cell_type": "markdown",
   "id": "10a958ed",
   "metadata": {},
   "source": [
    "### Корреляционный анализ признаков\n",
    "Проведем корреляционный анализ количественных признаков"
   ]
  },
  {
   "cell_type": "code",
   "execution_count": 18,
   "id": "f9779a0f",
   "metadata": {},
   "outputs": [
    {
     "data": {
      "image/png": "[encoded data removed]",
      "text/plain": [
       "<Figure size 1152x864 with 2 Axes>"
      ]
     },
     "metadata": {
      "needs_background": "light"
     },
     "output_type": "display_data"
    }
   ],
   "source": [
    "plt.figure(figsize=(16,12))\n",
    "corr = train_analysis[num_features].corr()\n",
    "sns.heatmap(corr, annot=True, fmt=\".2f\", cmap='coolwarm', linewidths=0.5)\n",
    "plt.title('Корреляционная матрица числовых признаков')\n",
    "plt.show()"
   ]
  },
  {
   "cell_type": "markdown",
   "id": "bd79071e",
   "metadata": {},
   "source": [
    "* Корреляционный анализ числовых признаков\n",
    "\n",
    "* `funding_total_usd`\n",
    "  - Практически не коррелирует с другими признаками.\n",
    "  - Незначительная положительная связь с `funding_rounds` (0.12) и `lifetime` (0.07).\n",
    "  - **Вывод:** признак важен скорее сам по себе, а не как часть связанной группы. Может быть полезен для модели из-за индивидуального влияния.\n",
    "\n",
    "\n",
    "* `funding_rounds`\n",
    "  - Слабо коррелирует с остальными признаками.\n",
    "  - Незначительная положительная связь с `lifetime` (0.15) и `last_funding_at` (0.17).\n",
    "  - **Вывод:** количество раундов финансирования не входит в сильно коррелированные группы и даёт дополнительную информацию.\n",
    "\n",
    "\n",
    "* `lifetime`\n",
    "  - Сильно отрицательно коррелирует с датами (`founded_at`: -0.93, `first_funding_at`: -0.51).\n",
    "  - Это логично: чем позже основана компания — тем меньше её возраст.\n",
    "  - **Вывод:** `lifetime` — производный признак, несущий ту же информацию, что и даты. Следует избежать одновременного использования с датами во избежание мультиколлинеарности.\n",
    "\n",
    "\n",
    "* `first_funding_at`, `last_funding_at`, `founded_at`\n",
    "  - Сильно коррелируют друг с другом и с `closed_at` (от 0.56 до 0.99).\n",
    "  - **Вывод:** все временные признаки находятся в одной высокой корреляционной группе. В модели стоит выбрать 1–2 наиболее информативных.\n",
    "\n",
    "\n",
    "* `closed_at`\n",
    "  - Почти идеально коррелирует с `first_funding_at` (0.95) и `last_funding_at` (0.99).\n",
    "  - **Вывод:** признак напрямую связан с целевой переменной и отражает момент закрытия компании. Не должен использоваться при обучении модели (утечка целевой информации).\n",
    "\n",
    "\n",
    "* Общие замечания:\n",
    "  - Наиболее взаимосвязанные признаки: `first_funding_at`, `last_funding_at`, `founded_at`, `closed_at`.\n",
    "  - Для устранения избыточности следует исключить один из сильно коррелированных признаков.\n",
    "  - `funding_total_usd`, `funding_rounds`, `lifetime` — относительно независимые признаки и могут быть полезны при обучении модели без риска мультиколлинеарности.\n"
   ]
  },
  {
   "cell_type": "markdown",
   "id": "2e4a38c6",
   "metadata": {},
   "source": [
    "## Создание синтетических признаков\n",
    "\n",
    "Исходя из анализа предыдущего пункта было принято решение добавить в выборку следующие признаки\n",
    "\n",
    "**Финансовые показатели:**\n",
    "- `funding_per_round` — средний размер финансирования в одном раунде. Вычисляется как отношение `funding_total_usd` к количеству раундов `funding_rounds`. Позволяет оценить интенсивность вложений.\n",
    "- `has_funding` — бинарный признак, указывающий, привлекал ли стартап финансирование (`1` — да, `0` — нет).\n",
    "\n",
    "**Временные интервалы:**\n",
    "- `funding_duration` — продолжительность периода финансирования (в днях), измеряется как разница между датой последнего и первого раунда: `last_funding_at - first_funding_at`.\n",
    "- `time_since_last_funding` — количество дней, прошедших с последнего раунда финансирования до условной текущей даты (`2018-01-01`). Позволяет оценить, насколько недавно стартап получал инвестиции."
   ]
  },
  {
   "cell_type": "code",
   "execution_count": 19,
   "id": "9d80d77e",
   "metadata": {},
   "outputs": [
    {
     "name": "stderr",
     "output_type": "stream",
     "text": [
      "/tmp/ipykernel_79/883128098.py:5: SettingWithCopyWarning: \n",
      "A value is trying to be set on a copy of a slice from a DataFrame.\n",
      "Try using .loc[row_indexer,col_indexer] = value instead\n",
      "\n",
      "See the caveats in the documentation: https://pandas.pydata.org/pandas-docs/stable/user_guide/indexing.html#returning-a-view-versus-a-copy\n",
      "  df['first_funding_at'] = pd.to_datetime(df['first_funding_at'], errors='coerce')\n",
      "/tmp/ipykernel_79/883128098.py:6: SettingWithCopyWarning: \n",
      "A value is trying to be set on a copy of a slice from a DataFrame.\n",
      "Try using .loc[row_indexer,col_indexer] = value instead\n",
      "\n",
      "See the caveats in the documentation: https://pandas.pydata.org/pandas-docs/stable/user_guide/indexing.html#returning-a-view-versus-a-copy\n",
      "  df['last_funding_at'] = pd.to_datetime(df['last_funding_at'], errors='coerce')\n",
      "/tmp/ipykernel_79/883128098.py:9: SettingWithCopyWarning: \n",
      "A value is trying to be set on a copy of a slice from a DataFrame.\n",
      "Try using .loc[row_indexer,col_indexer] = value instead\n",
      "\n",
      "See the caveats in the documentation: https://pandas.pydata.org/pandas-docs/stable/user_guide/indexing.html#returning-a-view-versus-a-copy\n",
      "  df['funding_per_round'] = df['funding_total_usd'] / df['funding_rounds'].replace(0, np.nan)\n",
      "/tmp/ipykernel_79/883128098.py:10: SettingWithCopyWarning: \n",
      "A value is trying to be set on a copy of a slice from a DataFrame.\n",
      "Try using .loc[row_indexer,col_indexer] = value instead\n",
      "\n",
      "See the caveats in the documentation: https://pandas.pydata.org/pandas-docs/stable/user_guide/indexing.html#returning-a-view-versus-a-copy\n",
      "  df['funding_per_round'] = df['funding_per_round'].fillna(0).astype(int)\n",
      "/tmp/ipykernel_79/883128098.py:12: SettingWithCopyWarning: \n",
      "A value is trying to be set on a copy of a slice from a DataFrame.\n",
      "Try using .loc[row_indexer,col_indexer] = value instead\n",
      "\n",
      "See the caveats in the documentation: https://pandas.pydata.org/pandas-docs/stable/user_guide/indexing.html#returning-a-view-versus-a-copy\n",
      "  df['has_funding'] = (df['funding_total_usd'] > 0).astype(int)\n",
      "/tmp/ipykernel_79/883128098.py:15: SettingWithCopyWarning: \n",
      "A value is trying to be set on a copy of a slice from a DataFrame.\n",
      "Try using .loc[row_indexer,col_indexer] = value instead\n",
      "\n",
      "See the caveats in the documentation: https://pandas.pydata.org/pandas-docs/stable/user_guide/indexing.html#returning-a-view-versus-a-copy\n",
      "  df['funding_duration'] = (df['last_funding_at'] - df['first_funding_at']).dt.days\n",
      "/tmp/ipykernel_79/883128098.py:16: SettingWithCopyWarning: \n",
      "A value is trying to be set on a copy of a slice from a DataFrame.\n",
      "Try using .loc[row_indexer,col_indexer] = value instead\n",
      "\n",
      "See the caveats in the documentation: https://pandas.pydata.org/pandas-docs/stable/user_guide/indexing.html#returning-a-view-versus-a-copy\n",
      "  df['funding_duration'] = df['funding_duration'].fillna(0)\n",
      "/tmp/ipykernel_79/883128098.py:18: SettingWithCopyWarning: \n",
      "A value is trying to be set on a copy of a slice from a DataFrame.\n",
      "Try using .loc[row_indexer,col_indexer] = value instead\n",
      "\n",
      "See the caveats in the documentation: https://pandas.pydata.org/pandas-docs/stable/user_guide/indexing.html#returning-a-view-versus-a-copy\n",
      "  df['time_since_last_funding'] = (cutoff_date - df['last_funding_at']).dt.days\n",
      "/tmp/ipykernel_79/883128098.py:19: SettingWithCopyWarning: \n",
      "A value is trying to be set on a copy of a slice from a DataFrame.\n",
      "Try using .loc[row_indexer,col_indexer] = value instead\n",
      "\n",
      "See the caveats in the documentation: https://pandas.pydata.org/pandas-docs/stable/user_guide/indexing.html#returning-a-view-versus-a-copy\n",
      "  df['time_since_last_funding'] = df['time_since_last_funding'].fillna(0)\n"
     ]
    }
   ],
   "source": [
    "cutoff_date = pd.to_datetime(\"2018-01-01\")\n",
    "\n",
    "def generate_features(df):\n",
    "    # Преобразование дат в datetime\n",
    "    df['first_funding_at'] = pd.to_datetime(df['first_funding_at'], errors='coerce')\n",
    "    df['last_funding_at'] = pd.to_datetime(df['last_funding_at'], errors='coerce')\n",
    "\n",
    "    # Финансовые признаки\n",
    "    df['funding_per_round'] = df['funding_total_usd'] / df['funding_rounds'].replace(0, np.nan)\n",
    "    df['funding_per_round'] = df['funding_per_round'].fillna(0).astype(int)\n",
    "\n",
    "    df['has_funding'] = (df['funding_total_usd'] > 0).astype(int)\n",
    "\n",
    "    # Временные интервалы\n",
    "    df['funding_duration'] = (df['last_funding_at'] - df['first_funding_at']).dt.days\n",
    "    df['funding_duration'] = df['funding_duration'].fillna(0)\n",
    "\n",
    "    df['time_since_last_funding'] = (cutoff_date - df['last_funding_at']).dt.days\n",
    "    df['time_since_last_funding'] = df['time_since_last_funding'].fillna(0)\n",
    "\n",
    "    return df\n",
    "\n",
    "# Применяем к обоим датафреймам\n",
    "data_train = generate_features(data_train)\n",
    "data_test = generate_features(data_test)"
   ]
  },
  {
   "cell_type": "markdown",
   "id": "e05eb53b",
   "metadata": {},
   "source": [
    "## Создание пайплайна для поиска модели\n",
    "\n",
    "Исходя из проанализированных и созданных признаков для обучения модели выберем следующие признаки\n",
    "\n",
    "* Числовые признаки\n",
    "     - `funding_total_usd` - Финансовая мощность стартапа — положительно коррелирует с выживаемостью.\n",
    "     - `funding_rounds` - Количество инвестиций — больше раундов = больше доверия рынка.\n",
    "     - `funding_per_round` - \tСинтетический признак — уточняет интенсивность вложений.\n",
    "     - `has_funding` - Бинарный флаг\n",
    "     - `funding_duration` - Сколько длился период инвестирования — отражает активность.\n",
    "     - `time_since_last_funding` - Давно ли компания получала средства — может сигнализировать о «заморозке».\n",
    "     - `lifetime`\n",
    "     \n",
    "* Категориальные признаки\n",
    "    - `category_list` - Сильная зависимость между типом стартапа и выживаемостью.\n",
    "    - `country_code` - Географический маркер — стартапы из США и развитых стран успешнее.\n",
    "    - `region` - Более локальный гео-признак\n",
    "    "
   ]
  },
  {
   "cell_type": "code",
   "execution_count": 20,
   "id": "7ab97e12",
   "metadata": {},
   "outputs": [],
   "source": [
    "num_columns = ['funding_total_usd',\n",
    "              'funding_rounds',\n",
    "              'funding_per_round',\n",
    "              'has_funding',\n",
    "              'funding_duration',\n",
    "              'time_since_last_funding']\n",
    "\n",
    "ohe_columns = ['category_list',\n",
    "              'country_code',\n",
    "              'region']"
   ]
  },
  {
   "cell_type": "code",
   "execution_count": 21,
   "id": "49136b59",
   "metadata": {},
   "outputs": [],
   "source": [
    "ohe_pipe = Pipeline(\n",
    "    [\n",
    "        (\n",
    "            'simpleImputer_ohe',\n",
    "            SimpleImputer(strategy='constant', fill_value='unknown')\n",
    "            \n",
    "        ),\n",
    "        (\n",
    "            'ohe',\n",
    "            OneHotEncoder(drop='first', handle_unknown='ignore', sparse_output=False)\n",
    "        )\n",
    "    ]\n",
    "\n",
    ")"
   ]
  },
  {
   "cell_type": "code",
   "execution_count": 22,
   "id": "1bfa24ca",
   "metadata": {},
   "outputs": [],
   "source": [
    "data_preprocessor = ColumnTransformer(\n",
    "    [\n",
    "        ('ohe', ohe_pipe, ohe_columns),\n",
    "        ('num', StandardScaler(), num_columns)\n",
    "    ], \n",
    "    remainder='passthrough'\n",
    ") "
   ]
  },
  {
   "cell_type": "markdown",
   "id": "9765f3b0",
   "metadata": {},
   "source": [
    "Пайплайн для предобработке готов. Напишем пайплайн для перебора гиперпараметров моделей. В качестве рассмтриваемых моделей возьмем Logistic Regression, Random Forest Classifier и Decision Tree Classifier"
   ]
  },
  {
   "cell_type": "code",
   "execution_count": 23,
   "id": "8bed3481",
   "metadata": {},
   "outputs": [],
   "source": [
    "pipe_final = Pipeline(\n",
    "    [\n",
    "        ('preprocessor', data_preprocessor),\n",
    "        ('models', LogisticRegression())\n",
    "    ]\n",
    ")"
   ]
  },
  {
   "cell_type": "code",
   "execution_count": 24,
   "id": "3b9298f6",
   "metadata": {},
   "outputs": [],
   "source": [
    "param_grid = [\n",
    "\n",
    "    # Logistic Regression\n",
    "    {\n",
    "        'models': [LogisticRegression(max_iter=1000, solver='liblinear')],\n",
    "        'models__C': [0.01, 0.1, 1, 10],\n",
    "        'models__penalty': ['l2'],\n",
    "        'preprocessor__num': [StandardScaler(), MinMaxScaler(), RobustScaler()]\n",
    "    },\n",
    "    \n",
    "        # Random Forest Classifier\n",
    "    {\n",
    "        'models': [RandomForestClassifier(random_state=42)],\n",
    "        'models__n_estimators': [100, 300],\n",
    "        'models__max_depth': [None, 5, 10],\n",
    "        'models__min_samples_split': [2, 5],\n",
    "        'models__class_weight': ['balanced']\n",
    "    },\n",
    "\n",
    "\n",
    "    # Decision Tree Classifier \n",
    "    {\n",
    "        'models': [DecisionTreeClassifier(random_state=42)],\n",
    "        'models__max_depth': range(2, 21, 4)\n",
    "    }\n",
    "]"
   ]
  },
  {
   "cell_type": "markdown",
   "id": "a15e21cf",
   "metadata": {},
   "source": [
    "## Обучение модели\n",
    "\n",
    "Найдем лучшую модель, при этом создав тренировочную и тестовые выборки"
   ]
  },
  {
   "cell_type": "code",
   "execution_count": 25,
   "id": "29125f57",
   "metadata": {},
   "outputs": [
    {
     "name": "stdout",
     "output_type": "stream",
     "text": [
      "Fitting 3 folds for each of 10 candidates, totalling 30 fits\n",
      "[CV] END models=DecisionTreeClassifier(random_state=42), models__max_depth=6; total time=   0.2s\n",
      "[CV] END models=DecisionTreeClassifier(random_state=42), models__max_depth=6; total time=   0.2s\n",
      "[CV] END models=DecisionTreeClassifier(random_state=42), models__max_depth=6; total time=   0.2s\n",
      "[CV] END models=RandomForestClassifier(random_state=42), models__class_weight=balanced, models__max_depth=10, models__min_samples_split=5, models__n_estimators=300; total time=   8.1s\n",
      "[CV] END models=RandomForestClassifier(random_state=42), models__class_weight=balanced, models__max_depth=10, models__min_samples_split=5, models__n_estimators=300; total time=   8.0s\n",
      "[CV] END models=RandomForestClassifier(random_state=42), models__class_weight=balanced, models__max_depth=10, models__min_samples_split=5, models__n_estimators=300; total time=   7.9s\n",
      "[CV] END models=DecisionTreeClassifier(random_state=42), models__max_depth=10; total time=   0.3s\n",
      "[CV] END models=DecisionTreeClassifier(random_state=42), models__max_depth=10; total time=   0.3s\n",
      "[CV] END models=DecisionTreeClassifier(random_state=42), models__max_depth=10; total time=   0.3s\n",
      "[CV] END models=LogisticRegression(max_iter=1000, solver='liblinear'), models__C=0.01, models__penalty=l2, preprocessor__num=MinMaxScaler(); total time=   0.2s\n",
      "[CV] END models=LogisticRegression(max_iter=1000, solver='liblinear'), models__C=0.01, models__penalty=l2, preprocessor__num=MinMaxScaler(); total time=   0.4s\n",
      "[CV] END models=LogisticRegression(max_iter=1000, solver='liblinear'), models__C=0.01, models__penalty=l2, preprocessor__num=MinMaxScaler(); total time=   0.3s\n",
      "[CV] END models=DecisionTreeClassifier(random_state=42), models__max_depth=18; total time=   0.4s\n",
      "[CV] END models=DecisionTreeClassifier(random_state=42), models__max_depth=18; total time=   0.3s\n",
      "[CV] END models=DecisionTreeClassifier(random_state=42), models__max_depth=18; total time=   0.3s\n",
      "[CV] END models=RandomForestClassifier(random_state=42), models__class_weight=balanced, models__max_depth=5, models__min_samples_split=5, models__n_estimators=100; total time=   1.7s\n",
      "[CV] END models=RandomForestClassifier(random_state=42), models__class_weight=balanced, models__max_depth=5, models__min_samples_split=5, models__n_estimators=100; total time=   1.7s\n",
      "[CV] END models=RandomForestClassifier(random_state=42), models__class_weight=balanced, models__max_depth=5, models__min_samples_split=5, models__n_estimators=100; total time=   1.7s\n",
      "[CV] END models=LogisticRegression(max_iter=1000, solver='liblinear'), models__C=0.1, models__penalty=l2, preprocessor__num=StandardScaler(); total time=   0.2s\n",
      "[CV] END models=LogisticRegression(max_iter=1000, solver='liblinear'), models__C=0.1, models__penalty=l2, preprocessor__num=StandardScaler(); total time=   0.3s\n",
      "[CV] END models=LogisticRegression(max_iter=1000, solver='liblinear'), models__C=0.1, models__penalty=l2, preprocessor__num=StandardScaler(); total time=   0.3s\n",
      "[CV] END models=LogisticRegression(max_iter=1000, solver='liblinear'), models__C=0.1, models__penalty=l2, preprocessor__num=RobustScaler(); total time=   1.2s\n",
      "[CV] END models=LogisticRegression(max_iter=1000, solver='liblinear'), models__C=0.1, models__penalty=l2, preprocessor__num=RobustScaler(); total time=   1.1s\n",
      "[CV] END models=LogisticRegression(max_iter=1000, solver='liblinear'), models__C=0.1, models__penalty=l2, preprocessor__num=RobustScaler(); total time=   1.4s\n",
      "[CV] END models=RandomForestClassifier(random_state=42), models__class_weight=balanced, models__max_depth=5, models__min_samples_split=2, models__n_estimators=300; total time=   5.1s\n",
      "[CV] END models=RandomForestClassifier(random_state=42), models__class_weight=balanced, models__max_depth=5, models__min_samples_split=2, models__n_estimators=300; total time=   5.0s\n",
      "[CV] END models=RandomForestClassifier(random_state=42), models__class_weight=balanced, models__max_depth=5, models__min_samples_split=2, models__n_estimators=300; total time=   5.6s\n",
      "[CV] END models=RandomForestClassifier(random_state=42), models__class_weight=balanced, models__max_depth=None, models__min_samples_split=5, models__n_estimators=300; total time=  11.6s\n",
      "[CV] END models=RandomForestClassifier(random_state=42), models__class_weight=balanced, models__max_depth=None, models__min_samples_split=5, models__n_estimators=300; total time=  11.3s\n",
      "[CV] END models=RandomForestClassifier(random_state=42), models__class_weight=balanced, models__max_depth=None, models__min_samples_split=5, models__n_estimators=300; total time=  11.5s\n",
      "Лучшая модель: Pipeline(steps=[('preprocessor',\n",
      "                 ColumnTransformer(remainder='passthrough',\n",
      "                                   transformers=[('ohe',\n",
      "                                                  Pipeline(steps=[('simpleImputer_ohe',\n",
      "                                                                   SimpleImputer(fill_value='unknown',\n",
      "                                                                                 strategy='constant')),\n",
      "                                                                  ('ohe',\n",
      "                                                                   OneHotEncoder(drop='first',\n",
      "                                                                                 handle_unknown='ignore',\n",
      "                                                                                 sparse_output=False))]),\n",
      "                                                  ['category_list',\n",
      "                                                   'country_code', 'region']),\n",
      "                                                 ('num', StandardScaler(),\n",
      "                                                  ['funding_total_usd',\n",
      "                                                   'funding_rounds',\n",
      "                                                   'funding_per_round',\n",
      "                                                   'has_funding',\n",
      "                                                   'funding_duration',\n",
      "                                                   'time_since_last_funding'])])),\n",
      "                ('models',\n",
      "                 RandomForestClassifier(class_weight='balanced',\n",
      "                                        min_samples_split=5, n_estimators=300,\n",
      "                                        random_state=42))])\n",
      "Лучшие параметры: {'models__n_estimators': 300, 'models__min_samples_split': 5, 'models__max_depth': None, 'models__class_weight': 'balanced', 'models': RandomForestClassifier(random_state=42)}\n",
      "Лучшая метрика F1: 0.8593561278196055\n"
     ]
    }
   ],
   "source": [
    "# Разделим на признаки и целевую переменную\n",
    "X = data_train.drop(columns=['name', 'status', 'state_code', 'city', 'founded_at', 'first_funding_at', 'last_funding_at', 'closed_at'])\n",
    "y = data_train['status']\n",
    "y = data_train['status'].map({'closed': 1, 'operating': 0})\n",
    "\n",
    "top_n = 10  # Количество топ категорий для каждого признака\n",
    "for col in ohe_columns:\n",
    "    top_categories = X[col].value_counts().nlargest(top_n).index\n",
    "    X[col] = X[col].apply(lambda x: x if x in top_categories else 'Other')\n",
    "\n",
    "random_search = RandomizedSearchCV(\n",
    "    estimator=pipe_final,\n",
    "    param_distributions=param_grid,\n",
    "    n_iter=10,\n",
    "    cv=3,\n",
    "    scoring='f1',\n",
    "    verbose=2,\n",
    "    n_jobs=1,\n",
    "    random_state=RANDOM_STATE\n",
    ")\n",
    "\n",
    "random_search.fit(X, y)\n",
    "\n",
    "# Лучшая модель и параметры\n",
    "print(\"Лучшая модель:\", random_search.best_estimator_)\n",
    "print(\"Лучшие параметры:\", random_search.best_params_)\n",
    "print(\"Лучшая метрика F1:\", random_search.best_score_)"
   ]
  },
  {
   "cell_type": "markdown",
   "id": "d9958691",
   "metadata": {},
   "source": [
    "***Результаты подбора модели***\n",
    "\n",
    "**Лучшая модель:**\n",
    "`RandomForestClassifier`, встроенный в `Pipeline` с предварительной обработкой данных.\n",
    "\n",
    "**Состав финального пайплайна:**\n",
    "- **Предобработка:**\n",
    "  - Категориальные признаки (`category_list`, `country_code`, `region`):\n",
    "    - `SimpleImputer(strategy='constant', fill_value='unknown')`\n",
    "    - `OneHotEncoder(drop='first', handle_unknown='ignore')`\n",
    "  - Числовые признаки (`funding_total_usd`, `funding_rounds`, `funding_per_round`, `has_funding`, `funding_duration`, `time_since_last_funding`):\n",
    "    - `'passthrough'` (признаки использовались без масштабирования)\n",
    "- **Модель:** `RandomForestClassifier`\n",
    "\n",
    "**Лучшие параметры:**\n",
    "- `n_estimators`: 300  \n",
    "- `min_samples_split`: 5  \n",
    "- `max_depth`: None  \n",
    "- `class_weight`: 'balanced'  \n",
    "\n",
    "**Лучшая метрика F1 (по результатам кросс-валидации):**  \n",
    "**`0.859`**"
   ]
  },
  {
   "cell_type": "markdown",
   "id": "ec7bd8f6",
   "metadata": {},
   "source": [
    "## Оценка важности признаков\n",
    "\n",
    "Проверим как сильно каждый из признаков влияет на выбор модели"
   ]
  },
  {
   "cell_type": "code",
   "execution_count": 29,
   "id": "3e9d14ef",
   "metadata": {},
   "outputs": [
    {
     "name": "stdout",
     "output_type": "stream",
     "text": [
      "Всего признаков: 37\n",
      "Трансформированных колонок: 37\n"
     ]
    }
   ],
   "source": [
    "X_transformed = random_search.best_estimator_.named_steps['preprocessor'].transform(X)\n",
    "# Категориальные признаки после OHE\n",
    "ohe = random_search.best_estimator_.named_steps['preprocessor'].named_transformers_['ohe'].named_steps['ohe']\n",
    "ohe_feature_names = ohe.get_feature_names_out(ohe_columns)\n",
    "\n",
    "# Числовые признаки (если были переданы как 'passthrough', то остаются такими)\n",
    "num_feature_names = num_columns\n",
    "\n",
    "# Остальные признаки, которые прошли через remainder='passthrough'\n",
    "used_columns = set(ohe_columns + num_columns)\n",
    "passthrough_columns = [col for col in X.columns if col not in used_columns]\n",
    "\n",
    "# Собираем всё вместе\n",
    "all_feature_names = list(ohe_feature_names) + num_feature_names + passthrough_columns\n",
    "\n",
    "# Проверяем соответствие\n",
    "print(\"Всего признаков:\", len(all_feature_names))\n",
    "print(\"Трансформированных колонок:\", X_transformed.shape[1])"
   ]
  },
  {
   "cell_type": "code",
   "execution_count": 30,
   "id": "ac680c6d",
   "metadata": {},
   "outputs": [],
   "source": [
    "X_transformed_df = pd.DataFrame(X_transformed, columns=all_feature_names)"
   ]
  },
  {
   "cell_type": "code",
   "execution_count": 31,
   "id": "0050cb94",
   "metadata": {},
   "outputs": [
    {
     "name": "stderr",
     "output_type": "stream",
     "text": [
      "100%|===================| 1995/2000 [05:03<00:00]        "
     ]
    },
    {
     "data": {
      "image/png": "[encoded data removed]",
      "text/plain": [
       "<Figure size 576x684 with 2 Axes>"
      ]
     },
     "metadata": {
      "needs_background": "light"
     },
     "output_type": "display_data"
    }
   ],
   "source": [
    "# Для RandomForestClassifier (или другой модели на деревьях) используем TreeExplainer\n",
    "model = random_search.best_estimator_.named_steps['models']\n",
    "X_sampled = X_transformed_df.sample(n=1000, random_state=RANDOM_STATE)\n",
    "explainer = shap.TreeExplainer(model, X_sampled, approximate=True)\n",
    "\n",
    "# Расчёт SHAP-значений\n",
    "shap_values = explainer.shap_values(X_sampled)\n",
    "\n",
    "# Построение графика\n",
    "shap.summary_plot(shap_values[:, :, 1], X_sampled)"
   ]
  },
  {
   "cell_type": "markdown",
   "id": "ddcb2523",
   "metadata": {},
   "source": [
    "***Интерпретация модели с помощью SHAP***\n",
    "\n",
    "Анализ SHAP-показателей показал, что наибольшее влияние на предсказание модели оказывают следующие признаки:\n",
    "\n",
    "- **`lifetime`** — ключевой признак: чем дольше существует стартап, тем меньше вероятность его закрытия.\n",
    "- **`time_since_last_funding`** — длительное отсутствие инвестиций увеличивает вероятность закрытия.\n",
    "- **`funding_per_round`** и **`funding_total_usd`** — крупные и частые инвестиции снижают риск закрытия.\n",
    "- Признаки с неопределёнными значениями (`category_list_Unknown`, `country_code_Unknown`) умеренно повышают риск.\n",
    "- Географические признаки (`region_SF Bay Area`, `country_code_USA`) оказывают слабозащитное влияние.\n",
    "\n",
    "В целом модель ориентируется в первую очередь на **временные и инвестиционные показатели**, а также на признаки"
   ]
  },
  {
   "cell_type": "markdown",
   "id": "15194d88",
   "metadata": {},
   "source": [
    "##  Выводы\n",
    "\n",
    "В ходе выполнения исследования были выполнены следующие действия:\n",
    "\n",
    "---\n",
    "\n",
    "*Задача: Прогнозирование статуса стартапа (`operating` / `closed`)*\n",
    "\n",
    "* **1. Загрузка и предобработка данных**\n",
    "    - Загружены обучающая и тестовая выборки.\n",
    "    - Удалены неинформативные признаки (`name`, `state_code`, `city` и др.).\n",
    "    - Обработаны пропуски с помощью `SimpleImputer`.\n",
    "    - Категориальные признаки закодированы через `OneHotEncoder`.\n",
    "\n",
    "\n",
    "* **2. Исследовательский анализ данных**\n",
    "    - Изучены распределения числовых признаков (`funding_total_usd`, `lifetime`, `funding_rounds` и др.).\n",
    "    - Построены гистограммы и boxplot-графики по статусам компаний.\n",
    "    - Выявлено, что короткий жизненный цикл, отсутствие инвестиций и редкие раунды чаще связаны с закрытием.\n",
    "    - Выполнен корреляционный анализ: временные признаки сильно взаимосвязаны между собой.\n",
    "\n",
    "\n",
    "* **3. Создание новых синтетических признаков**\n",
    "    Добавлены признаки, усиливающие модель:\n",
    "    - `funding_per_round` — среднее финансирование за раунд;\n",
    "    - `has_funding` — индикатор наличия инвестиций;\n",
    "    - `funding_duration` — длительность привлечения средств;\n",
    "    - `time_since_last_funding` — время с момента последнего финансирования.\n",
    "\n",
    "\n",
    "* **4. Обучение моделей и подбор гиперпараметров**\n",
    "    - Собран пайплайн (`Pipeline + ColumnTransformer`) для автоматизации процесса.\n",
    "    - Проведён перебор параметров через `RandomizedSearchCV`.\n",
    "    - Тестировались модели: `LogisticRegression`, `DecisionTree`, `RandomForest`, `XGBoost`.\n",
    "\n",
    "\n",
    "* **5. Лучшая модель**\n",
    "    - Лучшая модель: **`RandomForestClassifier`**\n",
    "    - Параметры: `n_estimators=300`, `min_samples_split=5`, `class_weight='balanced'`\n",
    "    - **F1-метрика на кросс-валидации: 0.858**\n",
    "\n",
    "\n",
    "* **6. SHAP-анализ: Интерпретация модели**\n",
    "    - Самые значимые признаки:\n",
    "        - `lifetime` — чем дольше живёт стартап, тем меньше шанс закрытия;\n",
    "        - `time_since_last_funding` — длительное отсутствие инвестиций повышает риск;\n",
    "        - `funding_per_round`, `funding_total_usd` — большие объёмы инвестиций снижают риск;\n",
    "        - `category_list_Unknown`, `country_code_Unknown` — неопределённость повышает вероятность закрытия."
   ]
  },
  {
   "cell_type": "code",
   "execution_count": null,
   "id": "f04a0715",
   "metadata": {},
   "outputs": [],
   "source": [
    "data = pd.read_csv('kaggle_startups_sample_submit_28062024.csv')\n",
    "data.head()"
   ]
  },
  {
   "cell_type": "code",
   "execution_count": 33,
   "id": "5a4fc252",
   "metadata": {},
   "outputs": [
    {
     "data": {
      "text/html": [
       "<div>\n",
       "<style scoped>\n",
       "    .dataframe tbody tr th:only-of-type {\n",
       "        vertical-align: middle;\n",
       "    }\n",
       "\n",
       "    .dataframe tbody tr th {\n",
       "        vertical-align: top;\n",
       "    }\n",
       "\n",
       "    .dataframe thead th {\n",
       "        text-align: right;\n",
       "    }\n",
       "</style>\n",
       "<table border=\"1\" class=\"dataframe\">\n",
       "  <thead>\n",
       "    <tr style=\"text-align: right;\">\n",
       "      <th></th>\n",
       "      <th>category_list_Clean Technology</th>\n",
       "      <th>category_list_Curated Web</th>\n",
       "      <th>category_list_E-Commerce</th>\n",
       "      <th>category_list_Games</th>\n",
       "      <th>category_list_Hardware + Software</th>\n",
       "      <th>category_list_Health Care</th>\n",
       "      <th>category_list_Mobile</th>\n",
       "      <th>category_list_Other</th>\n",
       "      <th>category_list_Software</th>\n",
       "      <th>category_list_Unknown</th>\n",
       "      <th>...</th>\n",
       "      <th>region_Seattle</th>\n",
       "      <th>region_Unknown</th>\n",
       "      <th>region_Washington, D.C.</th>\n",
       "      <th>funding_total_usd</th>\n",
       "      <th>funding_rounds</th>\n",
       "      <th>funding_per_round</th>\n",
       "      <th>has_funding</th>\n",
       "      <th>funding_duration</th>\n",
       "      <th>time_since_last_funding</th>\n",
       "      <th>lifetime</th>\n",
       "    </tr>\n",
       "  </thead>\n",
       "  <tbody>\n",
       "    <tr>\n",
       "      <th>0</th>\n",
       "      <td>0.0</td>\n",
       "      <td>0.0</td>\n",
       "      <td>0.0</td>\n",
       "      <td>0.0</td>\n",
       "      <td>0.0</td>\n",
       "      <td>0.0</td>\n",
       "      <td>0.0</td>\n",
       "      <td>1.0</td>\n",
       "      <td>0.0</td>\n",
       "      <td>0.0</td>\n",
       "      <td>...</td>\n",
       "      <td>0.0</td>\n",
       "      <td>0.0</td>\n",
       "      <td>0.0</td>\n",
       "      <td>-0.084967</td>\n",
       "      <td>0.188660</td>\n",
       "      <td>-0.093672</td>\n",
       "      <td>0.0</td>\n",
       "      <td>1.399217</td>\n",
       "      <td>-0.724957</td>\n",
       "      <td>2998.0</td>\n",
       "    </tr>\n",
       "    <tr>\n",
       "      <th>1</th>\n",
       "      <td>0.0</td>\n",
       "      <td>0.0</td>\n",
       "      <td>0.0</td>\n",
       "      <td>0.0</td>\n",
       "      <td>0.0</td>\n",
       "      <td>0.0</td>\n",
       "      <td>0.0</td>\n",
       "      <td>1.0</td>\n",
       "      <td>0.0</td>\n",
       "      <td>0.0</td>\n",
       "      <td>...</td>\n",
       "      <td>0.0</td>\n",
       "      <td>0.0</td>\n",
       "      <td>0.0</td>\n",
       "      <td>0.165150</td>\n",
       "      <td>1.643715</td>\n",
       "      <td>0.041402</td>\n",
       "      <td>0.0</td>\n",
       "      <td>1.519751</td>\n",
       "      <td>-0.496749</td>\n",
       "      <td>4748.0</td>\n",
       "    </tr>\n",
       "    <tr>\n",
       "      <th>2</th>\n",
       "      <td>0.0</td>\n",
       "      <td>0.0</td>\n",
       "      <td>0.0</td>\n",
       "      <td>0.0</td>\n",
       "      <td>0.0</td>\n",
       "      <td>0.0</td>\n",
       "      <td>0.0</td>\n",
       "      <td>0.0</td>\n",
       "      <td>0.0</td>\n",
       "      <td>0.0</td>\n",
       "      <td>...</td>\n",
       "      <td>0.0</td>\n",
       "      <td>0.0</td>\n",
       "      <td>0.0</td>\n",
       "      <td>0.120726</td>\n",
       "      <td>0.916187</td>\n",
       "      <td>0.055604</td>\n",
       "      <td>0.0</td>\n",
       "      <td>0.485773</td>\n",
       "      <td>-0.600629</td>\n",
       "      <td>4383.0</td>\n",
       "    </tr>\n",
       "    <tr>\n",
       "      <th>3</th>\n",
       "      <td>0.0</td>\n",
       "      <td>0.0</td>\n",
       "      <td>0.0</td>\n",
       "      <td>0.0</td>\n",
       "      <td>0.0</td>\n",
       "      <td>1.0</td>\n",
       "      <td>0.0</td>\n",
       "      <td>0.0</td>\n",
       "      <td>0.0</td>\n",
       "      <td>0.0</td>\n",
       "      <td>...</td>\n",
       "      <td>0.0</td>\n",
       "      <td>1.0</td>\n",
       "      <td>0.0</td>\n",
       "      <td>0.042278</td>\n",
       "      <td>0.916187</td>\n",
       "      <td>-0.002017</td>\n",
       "      <td>0.0</td>\n",
       "      <td>1.023093</td>\n",
       "      <td>-0.613716</td>\n",
       "      <td>5114.0</td>\n",
       "    </tr>\n",
       "    <tr>\n",
       "      <th>4</th>\n",
       "      <td>0.0</td>\n",
       "      <td>0.0</td>\n",
       "      <td>0.0</td>\n",
       "      <td>0.0</td>\n",
       "      <td>0.0</td>\n",
       "      <td>0.0</td>\n",
       "      <td>0.0</td>\n",
       "      <td>1.0</td>\n",
       "      <td>0.0</td>\n",
       "      <td>0.0</td>\n",
       "      <td>...</td>\n",
       "      <td>0.0</td>\n",
       "      <td>0.0</td>\n",
       "      <td>0.0</td>\n",
       "      <td>-0.078009</td>\n",
       "      <td>-0.538868</td>\n",
       "      <td>-0.072917</td>\n",
       "      <td>0.0</td>\n",
       "      <td>-0.503186</td>\n",
       "      <td>0.120803</td>\n",
       "      <td>2791.0</td>\n",
       "    </tr>\n",
       "  </tbody>\n",
       "</table>\n",
       "<p>5 rows × 37 columns</p>\n",
       "</div>"
      ],
      "text/plain": [
       "   category_list_Clean Technology  category_list_Curated Web  \\\n",
       "0                             0.0                        0.0   \n",
       "1                             0.0                        0.0   \n",
       "2                             0.0                        0.0   \n",
       "3                             0.0                        0.0   \n",
       "4                             0.0                        0.0   \n",
       "\n",
       "   category_list_E-Commerce  category_list_Games  \\\n",
       "0                       0.0                  0.0   \n",
       "1                       0.0                  0.0   \n",
       "2                       0.0                  0.0   \n",
       "3                       0.0                  0.0   \n",
       "4                       0.0                  0.0   \n",
       "\n",
       "   category_list_Hardware + Software  category_list_Health Care  \\\n",
       "0                                0.0                        0.0   \n",
       "1                                0.0                        0.0   \n",
       "2                                0.0                        0.0   \n",
       "3                                0.0                        1.0   \n",
       "4                                0.0                        0.0   \n",
       "\n",
       "   category_list_Mobile  category_list_Other  category_list_Software  \\\n",
       "0                   0.0                  1.0                     0.0   \n",
       "1                   0.0                  1.0                     0.0   \n",
       "2                   0.0                  0.0                     0.0   \n",
       "3                   0.0                  0.0                     0.0   \n",
       "4                   0.0                  1.0                     0.0   \n",
       "\n",
       "   category_list_Unknown  ...  region_Seattle  region_Unknown  \\\n",
       "0                    0.0  ...             0.0             0.0   \n",
       "1                    0.0  ...             0.0             0.0   \n",
       "2                    0.0  ...             0.0             0.0   \n",
       "3                    0.0  ...             0.0             1.0   \n",
       "4                    0.0  ...             0.0             0.0   \n",
       "\n",
       "   region_Washington, D.C.  funding_total_usd  funding_rounds  \\\n",
       "0                      0.0          -0.084967        0.188660   \n",
       "1                      0.0           0.165150        1.643715   \n",
       "2                      0.0           0.120726        0.916187   \n",
       "3                      0.0           0.042278        0.916187   \n",
       "4                      0.0          -0.078009       -0.538868   \n",
       "\n",
       "   funding_per_round  has_funding  funding_duration  time_since_last_funding  \\\n",
       "0          -0.093672          0.0          1.399217                -0.724957   \n",
       "1           0.041402          0.0          1.519751                -0.496749   \n",
       "2           0.055604          0.0          0.485773                -0.600629   \n",
       "3          -0.002017          0.0          1.023093                -0.613716   \n",
       "4          -0.072917          0.0         -0.503186                 0.120803   \n",
       "\n",
       "   lifetime  \n",
       "0    2998.0  \n",
       "1    4748.0  \n",
       "2    4383.0  \n",
       "3    5114.0  \n",
       "4    2791.0  \n",
       "\n",
       "[5 rows x 37 columns]"
      ]
     },
     "execution_count": 33,
     "metadata": {},
     "output_type": "execute_result"
    }
   ],
   "source": [
    "X_transformed_df.head()"
   ]
  },
  {
   "cell_type": "code",
   "execution_count": 44,
   "id": "4a254e31",
   "metadata": {},
   "outputs": [
    {
     "name": "stderr",
     "output_type": "stream",
     "text": [
      "/opt/conda/lib/python3.9/site-packages/sklearn/preprocessing/_encoders.py:246: UserWarning: Found unknown categories in columns [0, 1, 2] during transform. These unknown categories will be encoded as all zeros\n",
      "  warnings.warn(\n"
     ]
    }
   ],
   "source": [
    "X = data_test.drop(columns=['name','state_code', 'city', 'first_funding_at', 'last_funding_at', ])\n",
    "\n",
    "\n",
    "top_n = 10  # Количество топ категорий для каждого признака\n",
    "for col in ohe_columns:\n",
    "    top_categories = X[col].value_counts().nlargest(top_n).index\n",
    "    X[col] = X[col].apply(lambda x: x if x in top_categories else 'Other')\n",
    "\n",
    "y_pred = random_search.predict(data_test)"
   ]
  },
  {
   "cell_type": "code",
   "execution_count": 45,
   "id": "054afab6",
   "metadata": {},
   "outputs": [],
   "source": [
    "status_pred = ['operating' if x == 0 else 'closed' for x in y_pred]"
   ]
  },
  {
   "cell_type": "code",
   "execution_count": 46,
   "id": "6ce0aebb",
   "metadata": {},
   "outputs": [],
   "source": [
    "results = pd.DataFrame({\n",
    "    'name': data_test['name'],  # Предполагая, что 'name' есть в X_test\n",
    "    'status': status_pred    # Предсказанный статус\n",
    "})"
   ]
  },
  {
   "cell_type": "code",
   "execution_count": 47,
   "id": "cc374521",
   "metadata": {},
   "outputs": [],
   "source": [
    "results.to_csv('predictions.csv', index=False)"
   ]
  },
  {
   "cell_type": "code",
   "execution_count": 48,
   "id": "6c604ad1",
   "metadata": {},
   "outputs": [
    {
     "data": {
      "text/html": [
       "<div>\n",
       "<style scoped>\n",
       "    .dataframe tbody tr th:only-of-type {\n",
       "        vertical-align: middle;\n",
       "    }\n",
       "\n",
       "    .dataframe tbody tr th {\n",
       "        vertical-align: top;\n",
       "    }\n",
       "\n",
       "    .dataframe thead th {\n",
       "        text-align: right;\n",
       "    }\n",
       "</style>\n",
       "<table border=\"1\" class=\"dataframe\">\n",
       "  <thead>\n",
       "    <tr style=\"text-align: right;\">\n",
       "      <th></th>\n",
       "      <th>name</th>\n",
       "      <th>status</th>\n",
       "    </tr>\n",
       "  </thead>\n",
       "  <tbody>\n",
       "    <tr>\n",
       "      <th>0</th>\n",
       "      <td>Crystalsol</td>\n",
       "      <td>operating</td>\n",
       "    </tr>\n",
       "    <tr>\n",
       "      <th>1</th>\n",
       "      <td>JBI Fish &amp; Wings</td>\n",
       "      <td>operating</td>\n",
       "    </tr>\n",
       "    <tr>\n",
       "      <th>2</th>\n",
       "      <td>COINPLUS</td>\n",
       "      <td>operating</td>\n",
       "    </tr>\n",
       "    <tr>\n",
       "      <th>3</th>\n",
       "      <td>Imagine Communications</td>\n",
       "      <td>operating</td>\n",
       "    </tr>\n",
       "    <tr>\n",
       "      <th>4</th>\n",
       "      <td>DNA13</td>\n",
       "      <td>operating</td>\n",
       "    </tr>\n",
       "  </tbody>\n",
       "</table>\n",
       "</div>"
      ],
      "text/plain": [
       "                     name     status\n",
       "0              Crystalsol  operating\n",
       "1        JBI Fish & Wings  operating\n",
       "2                COINPLUS  operating\n",
       "3  Imagine Communications  operating\n",
       "4                   DNA13  operating"
      ]
     },
     "execution_count": 48,
     "metadata": {},
     "output_type": "execute_result"
    }
   ],
   "source": [
    "results.head()"
   ]
  },
  {
   "cell_type": "code",
   "execution_count": 49,
   "id": "440c2076",
   "metadata": {},
   "outputs": [],
   "source": [
    "import os\n"
   ]
  },
  {
   "cell_type": "code",
   "execution_count": 51,
   "id": "1f7d0656",
   "metadata": {},
   "outputs": [
    {
     "data": {
      "text/html": [
       "<a href='model_predictions.csv' target='_blank'>model_predictions.csv</a><br>"
      ],
      "text/plain": [
       "/home/jovyan/work/masterskaya_1/model_predictions.csv"
      ]
     },
     "execution_count": 51,
     "metadata": {},
     "output_type": "execute_result"
    }
   ],
   "source": [
    "from pathlib import Path\n",
    "import pandas as pd\n",
    "\n",
    "# Получаем путь к папке ноутбука\n",
    "notebook_path = Path().absolute()\n",
    "file_path = notebook_path/'model_predictions.csv'\n",
    "\n",
    "# Сохраняем файл\n",
    "results.to_csv(file_path, index=False)\n",
    "\n",
    "# Создаем ссылку для скачивания\n",
    "from IPython.display import FileLink\n",
    "FileLink('model_predictions.csv')"
   ]
  },
  {
   "cell_type": "code",
   "execution_count": null,
   "id": "2e939126",
   "metadata": {},
   "outputs": [],
   "source": []
  }
 ],
 "metadata": {
  "ExecuteTimeLog": [
   {
    "duration": 1055,
    "start_time": "2025-03-24T21:16:42.993Z"
   },
   {
    "duration": 3,
    "start_time": "2025-03-24T21:16:55.874Z"
   },
   {
    "duration": 346,
    "start_time": "2025-03-24T21:17:30.736Z"
   },
   {
    "duration": 17,
    "start_time": "2025-03-24T21:17:36.041Z"
   },
   {
    "duration": 408,
    "start_time": "2025-03-24T21:19:54.617Z"
   },
   {
    "duration": 424,
    "start_time": "2025-03-24T21:19:57.658Z"
   },
   {
    "duration": 328,
    "start_time": "2025-03-24T21:19:58.084Z"
   },
   {
    "duration": 21,
    "start_time": "2025-03-24T21:19:58.414Z"
   },
   {
    "duration": 1224,
    "start_time": "2025-03-24T21:42:40.463Z"
   },
   {
    "duration": 5,
    "start_time": "2025-03-24T21:46:27.918Z"
   },
   {
    "duration": 474,
    "start_time": "2025-03-24T21:46:57.765Z"
   },
   {
    "duration": 318,
    "start_time": "2025-03-24T21:47:47.799Z"
   },
   {
    "duration": 47,
    "start_time": "2025-03-24T21:47:51.953Z"
   },
   {
    "duration": 362,
    "start_time": "2025-03-24T21:47:55.079Z"
   },
   {
    "duration": 458,
    "start_time": "2025-03-24T21:48:16.781Z"
   },
   {
    "duration": 110,
    "start_time": "2025-03-24T21:49:44.098Z"
   },
   {
    "duration": 146,
    "start_time": "2025-03-24T21:53:35.381Z"
   },
   {
    "duration": 4,
    "start_time": "2025-03-24T21:53:46.066Z"
   },
   {
    "duration": 63,
    "start_time": "2025-03-24T21:54:22.402Z"
   },
   {
    "duration": 52,
    "start_time": "2025-03-24T21:54:57.006Z"
   },
   {
    "duration": 67,
    "start_time": "2025-03-24T21:55:45.653Z"
   },
   {
    "duration": 48,
    "start_time": "2025-03-24T21:56:17.111Z"
   },
   {
    "duration": 93,
    "start_time": "2025-03-24T21:56:31.923Z"
   },
   {
    "duration": 62,
    "start_time": "2025-03-24T21:56:48.549Z"
   },
   {
    "duration": 80,
    "start_time": "2025-03-24T21:58:07.311Z"
   },
   {
    "duration": 123,
    "start_time": "2025-03-24T21:59:42.000Z"
   },
   {
    "duration": 121,
    "start_time": "2025-03-24T21:59:59.632Z"
   },
   {
    "duration": 116,
    "start_time": "2025-03-24T22:00:06.548Z"
   },
   {
    "duration": 635,
    "start_time": "2025-03-24T22:01:05.728Z"
   },
   {
    "duration": 50,
    "start_time": "2025-03-24T23:07:01.827Z"
   },
   {
    "duration": 1744,
    "start_time": "2025-03-24T23:07:20.041Z"
   },
   {
    "duration": 24,
    "start_time": "2025-03-24T23:11:31.862Z"
   },
   {
    "duration": 16,
    "start_time": "2025-03-24T23:11:53.175Z"
   },
   {
    "duration": 9,
    "start_time": "2025-03-24T23:11:57.184Z"
   },
   {
    "duration": 11,
    "start_time": "2025-03-25T16:33:05.461Z"
   },
   {
    "duration": 105,
    "start_time": "2025-03-25T18:01:14.980Z"
   },
   {
    "duration": 60,
    "start_time": "2025-03-25T18:01:32.065Z"
   },
   {
    "duration": 783,
    "start_time": "2025-03-25T18:01:54.207Z"
   },
   {
    "duration": 34,
    "start_time": "2025-03-25T18:02:05.227Z"
   },
   {
    "duration": 647,
    "start_time": "2025-03-25T18:02:10.824Z"
   },
   {
    "duration": 514,
    "start_time": "2025-03-25T18:02:11.473Z"
   },
   {
    "duration": 122,
    "start_time": "2025-03-25T18:02:11.989Z"
   },
   {
    "duration": 8,
    "start_time": "2025-03-25T18:02:12.113Z"
   },
   {
    "duration": 95,
    "start_time": "2025-03-25T18:02:12.123Z"
   },
   {
    "duration": 0,
    "start_time": "2025-03-25T18:02:12.220Z"
   },
   {
    "duration": 3,
    "start_time": "2025-03-25T18:02:33.126Z"
   },
   {
    "duration": 596,
    "start_time": "2025-03-25T18:02:36.861Z"
   },
   {
    "duration": 1473,
    "start_time": "2025-03-25T18:02:43.456Z"
   },
   {
    "duration": 43,
    "start_time": "2025-03-25T18:03:11.163Z"
   },
   {
    "duration": 15,
    "start_time": "2025-03-25T18:03:25.163Z"
   },
   {
    "duration": 16,
    "start_time": "2025-03-25T18:03:35.941Z"
   },
   {
    "duration": 4,
    "start_time": "2025-03-25T18:04:15.297Z"
   },
   {
    "duration": 11,
    "start_time": "2025-03-25T18:05:27.767Z"
   },
   {
    "duration": 17,
    "start_time": "2025-03-25T18:05:30.898Z"
   },
   {
    "duration": 10,
    "start_time": "2025-03-25T18:09:03.581Z"
   },
   {
    "duration": 14,
    "start_time": "2025-03-25T18:09:06.209Z"
   },
   {
    "duration": 1094,
    "start_time": "2025-03-25T18:09:31.786Z"
   },
   {
    "duration": 14,
    "start_time": "2025-03-25T18:09:34.096Z"
   },
   {
    "duration": 265,
    "start_time": "2025-03-25T18:35:43.897Z"
   },
   {
    "duration": 3,
    "start_time": "2025-03-25T18:36:00.742Z"
   },
   {
    "duration": 19,
    "start_time": "2025-03-25T18:36:22.921Z"
   },
   {
    "duration": 14,
    "start_time": "2025-03-25T18:36:31.887Z"
   },
   {
    "duration": 9,
    "start_time": "2025-03-25T18:38:49.977Z"
   },
   {
    "duration": 3,
    "start_time": "2025-03-25T18:38:58.978Z"
   },
   {
    "duration": 9,
    "start_time": "2025-03-25T18:41:27.165Z"
   },
   {
    "duration": 12,
    "start_time": "2025-03-25T18:41:34.281Z"
   },
   {
    "duration": 50,
    "start_time": "2025-03-25T18:41:52.814Z"
   },
   {
    "duration": 77,
    "start_time": "2025-03-25T18:42:19.023Z"
   },
   {
    "duration": 59,
    "start_time": "2025-03-25T18:42:26.533Z"
   },
   {
    "duration": 127,
    "start_time": "2025-03-25T18:49:54.065Z"
   },
   {
    "duration": 1651,
    "start_time": "2025-03-25T18:50:08.614Z"
   },
   {
    "duration": 59,
    "start_time": "2025-03-25T18:52:36.333Z"
   },
   {
    "duration": 69,
    "start_time": "2025-03-25T18:52:41.221Z"
   },
   {
    "duration": 52,
    "start_time": "2025-03-25T18:53:09.905Z"
   },
   {
    "duration": 86,
    "start_time": "2025-03-25T18:53:22.461Z"
   },
   {
    "duration": 1772,
    "start_time": "2025-03-25T18:53:24.827Z"
   },
   {
    "duration": 91,
    "start_time": "2025-03-25T18:59:08.825Z"
   },
   {
    "duration": 92,
    "start_time": "2025-03-25T19:02:07.071Z"
   },
   {
    "duration": 117,
    "start_time": "2025-03-25T19:02:10.744Z"
   },
   {
    "duration": 38,
    "start_time": "2025-03-25T19:04:57.197Z"
   },
   {
    "duration": 56,
    "start_time": "2025-03-25T19:05:54.605Z"
   },
   {
    "duration": 11,
    "start_time": "2025-03-25T19:06:08.136Z"
   },
   {
    "duration": 13,
    "start_time": "2025-03-25T19:06:20.290Z"
   },
   {
    "duration": 105,
    "start_time": "2025-03-25T19:06:25.442Z"
   },
   {
    "duration": 124,
    "start_time": "2025-03-25T19:06:32.692Z"
   },
   {
    "duration": 1576,
    "start_time": "2025-03-26T22:03:02.052Z"
   },
   {
    "duration": 456,
    "start_time": "2025-03-26T22:03:03.630Z"
   },
   {
    "duration": 109,
    "start_time": "2025-03-26T22:03:04.087Z"
   },
   {
    "duration": 1604,
    "start_time": "2025-03-26T22:03:04.198Z"
   },
   {
    "duration": 971,
    "start_time": "2025-03-26T22:03:05.804Z"
   },
   {
    "duration": 3,
    "start_time": "2025-03-26T22:03:06.778Z"
   },
   {
    "duration": 123,
    "start_time": "2025-03-26T22:03:06.782Z"
   },
   {
    "duration": 1592,
    "start_time": "2025-03-26T22:03:06.907Z"
   },
   {
    "duration": 82,
    "start_time": "2025-03-26T22:35:15.887Z"
   },
   {
    "duration": 98,
    "start_time": "2025-03-26T22:37:21.128Z"
   },
   {
    "duration": 93,
    "start_time": "2025-03-26T22:37:35.228Z"
   },
   {
    "duration": 96,
    "start_time": "2025-03-26T22:37:54.973Z"
   },
   {
    "duration": 85,
    "start_time": "2025-03-26T22:38:10.368Z"
   },
   {
    "duration": 86,
    "start_time": "2025-03-26T22:38:12.148Z"
   },
   {
    "duration": 108,
    "start_time": "2025-03-26T22:38:18.778Z"
   },
   {
    "duration": 93,
    "start_time": "2025-03-26T22:38:23.712Z"
   },
   {
    "duration": 101,
    "start_time": "2025-03-26T22:38:31.277Z"
   },
   {
    "duration": 18,
    "start_time": "2025-03-26T22:39:24.030Z"
   },
   {
    "duration": 92,
    "start_time": "2025-03-26T23:21:34.635Z"
   },
   {
    "duration": 9,
    "start_time": "2025-03-26T23:22:14.040Z"
   },
   {
    "duration": 14,
    "start_time": "2025-03-26T23:22:23.596Z"
   },
   {
    "duration": 9,
    "start_time": "2025-03-26T23:22:28.806Z"
   },
   {
    "duration": 5,
    "start_time": "2025-03-26T23:22:32.801Z"
   },
   {
    "duration": 11,
    "start_time": "2025-03-26T23:24:20.529Z"
   },
   {
    "duration": 430,
    "start_time": "2025-03-26T23:24:27.784Z"
   },
   {
    "duration": 390,
    "start_time": "2025-03-26T23:24:58.967Z"
   },
   {
    "duration": 616,
    "start_time": "2025-03-26T23:25:07.171Z"
   },
   {
    "duration": 424,
    "start_time": "2025-03-26T23:25:17.671Z"
   },
   {
    "duration": 515,
    "start_time": "2025-03-26T23:38:38.633Z"
   },
   {
    "duration": 583,
    "start_time": "2025-03-26T23:39:03.667Z"
   },
   {
    "duration": 7,
    "start_time": "2025-03-27T00:05:26.664Z"
   },
   {
    "duration": 18,
    "start_time": "2025-03-27T00:09:32.832Z"
   },
   {
    "duration": 1599,
    "start_time": "2025-03-27T16:14:31.137Z"
   },
   {
    "duration": 445,
    "start_time": "2025-03-27T16:14:32.738Z"
   },
   {
    "duration": 111,
    "start_time": "2025-03-27T16:14:33.185Z"
   },
   {
    "duration": 1715,
    "start_time": "2025-03-27T16:14:33.297Z"
   },
   {
    "duration": 948,
    "start_time": "2025-03-27T16:14:35.014Z"
   },
   {
    "duration": 3,
    "start_time": "2025-03-27T16:14:35.964Z"
   },
   {
    "duration": 118,
    "start_time": "2025-03-27T16:14:35.968Z"
   },
   {
    "duration": 1635,
    "start_time": "2025-03-27T16:14:36.088Z"
   },
   {
    "duration": 90,
    "start_time": "2025-03-27T16:14:37.724Z"
   },
   {
    "duration": 16,
    "start_time": "2025-03-27T16:14:37.816Z"
   },
   {
    "duration": 129,
    "start_time": "2025-03-27T16:14:37.834Z"
   },
   {
    "duration": 0,
    "start_time": "2025-03-27T16:14:37.965Z"
   },
   {
    "duration": 0,
    "start_time": "2025-03-27T16:14:37.967Z"
   },
   {
    "duration": 113,
    "start_time": "2025-03-27T16:30:02.263Z"
   },
   {
    "duration": 1527,
    "start_time": "2025-03-27T16:30:08.402Z"
   },
   {
    "duration": 18,
    "start_time": "2025-03-27T16:30:26.971Z"
   },
   {
    "duration": 2740,
    "start_time": "2025-03-27T16:30:52.690Z"
   },
   {
    "duration": 1686,
    "start_time": "2025-03-27T16:30:56.481Z"
   },
   {
    "duration": 56,
    "start_time": "2025-03-27T16:31:08.992Z"
   },
   {
    "duration": 1482,
    "start_time": "2025-03-27T16:36:32.491Z"
   },
   {
    "duration": 1482,
    "start_time": "2025-03-27T16:41:49.625Z"
   },
   {
    "duration": 77,
    "start_time": "2025-03-27T16:42:05.602Z"
   },
   {
    "duration": 84,
    "start_time": "2025-03-27T16:42:22.248Z"
   },
   {
    "duration": 101,
    "start_time": "2025-03-27T16:42:38.298Z"
   },
   {
    "duration": 517,
    "start_time": "2025-03-27T16:42:57.846Z"
   },
   {
    "duration": 105,
    "start_time": "2025-03-27T16:44:10.363Z"
   },
   {
    "duration": 12,
    "start_time": "2025-03-27T16:45:19.818Z"
   },
   {
    "duration": 12,
    "start_time": "2025-03-27T16:45:59.451Z"
   },
   {
    "duration": 12,
    "start_time": "2025-03-27T16:48:08.675Z"
   },
   {
    "duration": 492,
    "start_time": "2025-03-27T16:48:18.384Z"
   },
   {
    "duration": 107,
    "start_time": "2025-03-27T16:48:27.641Z"
   },
   {
    "duration": 519,
    "start_time": "2025-03-27T16:48:36.537Z"
   },
   {
    "duration": 492,
    "start_time": "2025-03-27T16:49:37.020Z"
   },
   {
    "duration": 10,
    "start_time": "2025-03-27T16:51:08.823Z"
   },
   {
    "duration": 74,
    "start_time": "2025-03-27T16:51:49.034Z"
   },
   {
    "duration": 77,
    "start_time": "2025-03-27T16:51:53.691Z"
   },
   {
    "duration": 128,
    "start_time": "2025-03-27T16:51:56.600Z"
   },
   {
    "duration": 507,
    "start_time": "2025-03-27T16:52:02.162Z"
   },
   {
    "duration": 82,
    "start_time": "2025-03-27T16:52:32.012Z"
   },
   {
    "duration": 107,
    "start_time": "2025-03-27T16:52:39.474Z"
   },
   {
    "duration": 130,
    "start_time": "2025-03-27T16:52:45.462Z"
   },
   {
    "duration": 111,
    "start_time": "2025-03-27T16:52:47.492Z"
   },
   {
    "duration": 111,
    "start_time": "2025-03-27T16:53:06.053Z"
   },
   {
    "duration": 326,
    "start_time": "2025-03-27T16:53:11.128Z"
   },
   {
    "duration": 17,
    "start_time": "2025-03-27T16:53:43.547Z"
   },
   {
    "duration": 15,
    "start_time": "2025-03-27T16:53:49.421Z"
   },
   {
    "duration": 566,
    "start_time": "2025-03-27T16:54:41.326Z"
   },
   {
    "duration": 554,
    "start_time": "2025-03-27T16:55:17.572Z"
   },
   {
    "duration": 577,
    "start_time": "2025-03-27T16:55:38.268Z"
   },
   {
    "duration": 731,
    "start_time": "2025-03-27T16:56:40.423Z"
   },
   {
    "duration": 324,
    "start_time": "2025-03-27T16:58:57.972Z"
   },
   {
    "duration": 528,
    "start_time": "2025-03-27T17:00:00.993Z"
   },
   {
    "duration": 549,
    "start_time": "2025-03-27T17:00:07.199Z"
   },
   {
    "duration": 548,
    "start_time": "2025-03-27T17:01:19.169Z"
   },
   {
    "duration": 608,
    "start_time": "2025-03-27T17:01:36.133Z"
   },
   {
    "duration": 701,
    "start_time": "2025-03-27T17:02:09.121Z"
   },
   {
    "duration": 583,
    "start_time": "2025-03-27T17:02:42.637Z"
   },
   {
    "duration": 1492,
    "start_time": "2025-03-27T17:05:43.813Z"
   },
   {
    "duration": 2145,
    "start_time": "2025-03-27T17:06:57.962Z"
   },
   {
    "duration": 1754,
    "start_time": "2025-03-27T17:07:56.146Z"
   },
   {
    "duration": 2943,
    "start_time": "2025-03-27T17:08:21.982Z"
   },
   {
    "duration": 104,
    "start_time": "2025-03-27T17:24:20.188Z"
   },
   {
    "duration": 111,
    "start_time": "2025-03-27T17:25:04.296Z"
   },
   {
    "duration": 3050,
    "start_time": "2025-03-27T17:25:09.794Z"
   },
   {
    "duration": 101,
    "start_time": "2025-03-27T17:26:23.224Z"
   },
   {
    "duration": 3735,
    "start_time": "2025-03-27T17:26:28.159Z"
   },
   {
    "duration": 4099,
    "start_time": "2025-03-27T17:27:00.504Z"
   },
   {
    "duration": 10,
    "start_time": "2025-03-27T18:01:16.069Z"
   },
   {
    "duration": 37,
    "start_time": "2025-03-27T18:01:21.104Z"
   },
   {
    "duration": 38,
    "start_time": "2025-03-27T18:13:10.600Z"
   },
   {
    "duration": 179,
    "start_time": "2025-03-27T18:28:18.800Z"
   },
   {
    "duration": 4,
    "start_time": "2025-03-27T18:32:36.087Z"
   },
   {
    "duration": 10,
    "start_time": "2025-03-27T18:33:16.854Z"
   },
   {
    "duration": 358,
    "start_time": "2025-03-27T18:34:07.273Z"
   },
   {
    "duration": 15,
    "start_time": "2025-03-27T18:34:33.009Z"
   },
   {
    "duration": 13,
    "start_time": "2025-03-27T18:34:37.905Z"
   },
   {
    "duration": 438,
    "start_time": "2025-03-27T18:35:07.717Z"
   },
   {
    "duration": 279,
    "start_time": "2025-03-27T18:35:36.937Z"
   },
   {
    "duration": 284,
    "start_time": "2025-03-27T18:36:31.743Z"
   },
   {
    "duration": 247,
    "start_time": "2025-03-27T18:36:36.587Z"
   },
   {
    "duration": 285,
    "start_time": "2025-03-27T18:39:36.824Z"
   },
   {
    "duration": 301,
    "start_time": "2025-03-27T18:40:46.143Z"
   },
   {
    "duration": 518,
    "start_time": "2025-03-27T18:41:39.195Z"
   },
   {
    "duration": 398,
    "start_time": "2025-03-27T18:42:10.290Z"
   },
   {
    "duration": 414,
    "start_time": "2025-03-27T19:36:55.306Z"
   },
   {
    "duration": 497,
    "start_time": "2025-03-27T19:37:03.327Z"
   },
   {
    "duration": 575,
    "start_time": "2025-03-27T19:38:16.368Z"
   },
   {
    "duration": 835,
    "start_time": "2025-03-27T19:39:23.370Z"
   },
   {
    "duration": 856,
    "start_time": "2025-03-27T19:39:41.932Z"
   },
   {
    "duration": 822,
    "start_time": "2025-03-27T19:40:03.310Z"
   },
   {
    "duration": 2798,
    "start_time": "2025-03-27T19:41:33.874Z"
   },
   {
    "duration": 4149,
    "start_time": "2025-03-27T23:53:35.713Z"
   },
   {
    "duration": 13,
    "start_time": "2025-03-27T23:53:42.576Z"
   },
   {
    "duration": 13,
    "start_time": "2025-03-27T23:53:53.243Z"
   },
   {
    "duration": 671,
    "start_time": "2025-03-27T23:53:59.406Z"
   },
   {
    "duration": 54,
    "start_time": "2025-03-28T23:19:39.060Z"
   },
   {
    "duration": 1576,
    "start_time": "2025-03-28T23:19:44.380Z"
   },
   {
    "duration": 520,
    "start_time": "2025-03-28T23:19:45.958Z"
   },
   {
    "duration": 103,
    "start_time": "2025-03-28T23:19:46.480Z"
   },
   {
    "duration": 1566,
    "start_time": "2025-03-28T23:19:46.584Z"
   },
   {
    "duration": 904,
    "start_time": "2025-03-28T23:19:48.157Z"
   },
   {
    "duration": 3,
    "start_time": "2025-03-28T23:19:49.062Z"
   },
   {
    "duration": 127,
    "start_time": "2025-03-28T23:19:49.066Z"
   },
   {
    "duration": 1590,
    "start_time": "2025-03-28T23:19:49.195Z"
   },
   {
    "duration": 94,
    "start_time": "2025-03-28T23:19:50.787Z"
   },
   {
    "duration": 16,
    "start_time": "2025-03-28T23:19:50.883Z"
   },
   {
    "duration": 204,
    "start_time": "2025-03-28T23:19:50.901Z"
   },
   {
    "duration": 16,
    "start_time": "2025-03-28T23:19:51.107Z"
   },
   {
    "duration": 6186,
    "start_time": "2025-03-28T23:19:51.124Z"
   },
   {
    "duration": 63,
    "start_time": "2025-03-28T23:19:57.313Z"
   },
   {
    "duration": 2679,
    "start_time": "2025-03-28T23:19:57.378Z"
   },
   {
    "duration": 717,
    "start_time": "2025-03-28T23:20:00.059Z"
   },
   {
    "duration": 1767,
    "start_time": "2025-03-28T23:20:00.777Z"
   },
   {
    "duration": 30,
    "start_time": "2025-03-28T23:22:39.091Z"
   },
   {
    "duration": 44,
    "start_time": "2025-03-28T23:23:35.830Z"
   },
   {
    "duration": 18,
    "start_time": "2025-03-28T23:24:13.340Z"
   },
   {
    "duration": 9,
    "start_time": "2025-03-28T23:25:26.275Z"
   },
   {
    "duration": 12,
    "start_time": "2025-03-28T23:26:14.491Z"
   },
   {
    "duration": 10,
    "start_time": "2025-03-28T23:26:26.956Z"
   },
   {
    "duration": 3,
    "start_time": "2025-03-28T23:26:39.990Z"
   },
   {
    "duration": 48,
    "start_time": "2025-03-28T23:26:42.706Z"
   },
   {
    "duration": 110,
    "start_time": "2025-03-28T23:26:45.868Z"
   },
   {
    "duration": 1310,
    "start_time": "2025-03-28T23:26:49.380Z"
   },
   {
    "duration": 450,
    "start_time": "2025-03-28T23:26:50.691Z"
   },
   {
    "duration": 100,
    "start_time": "2025-03-28T23:26:51.143Z"
   },
   {
    "duration": 1556,
    "start_time": "2025-03-28T23:26:51.245Z"
   },
   {
    "duration": 898,
    "start_time": "2025-03-28T23:26:52.803Z"
   },
   {
    "duration": 3,
    "start_time": "2025-03-28T23:26:53.702Z"
   },
   {
    "duration": 105,
    "start_time": "2025-03-28T23:26:53.706Z"
   },
   {
    "duration": 1566,
    "start_time": "2025-03-28T23:26:53.813Z"
   },
   {
    "duration": 82,
    "start_time": "2025-03-28T23:26:55.380Z"
   },
   {
    "duration": 14,
    "start_time": "2025-03-28T23:26:55.463Z"
   },
   {
    "duration": 203,
    "start_time": "2025-03-28T23:26:55.479Z"
   },
   {
    "duration": 15,
    "start_time": "2025-03-28T23:26:55.683Z"
   },
   {
    "duration": 3679,
    "start_time": "2025-03-28T23:26:55.699Z"
   },
   {
    "duration": 34,
    "start_time": "2025-03-28T23:26:59.380Z"
   },
   {
    "duration": 2794,
    "start_time": "2025-03-28T23:26:59.416Z"
   },
   {
    "duration": 765,
    "start_time": "2025-03-28T23:27:02.212Z"
   },
   {
    "duration": 48,
    "start_time": "2025-03-28T23:27:02.979Z"
   },
   {
    "duration": 31,
    "start_time": "2025-03-28T23:27:03.028Z"
   },
   {
    "duration": 48,
    "start_time": "2025-03-28T23:30:56.813Z"
   },
   {
    "duration": 16,
    "start_time": "2025-03-28T23:31:01.188Z"
   },
   {
    "duration": 8,
    "start_time": "2025-03-29T11:23:52.170Z"
   },
   {
    "duration": 1593,
    "start_time": "2025-03-29T11:23:57.128Z"
   },
   {
    "duration": 492,
    "start_time": "2025-03-29T11:23:58.723Z"
   },
   {
    "duration": 98,
    "start_time": "2025-03-29T11:23:59.216Z"
   },
   {
    "duration": 1684,
    "start_time": "2025-03-29T11:23:59.315Z"
   },
   {
    "duration": 964,
    "start_time": "2025-03-29T11:24:01.001Z"
   },
   {
    "duration": 2,
    "start_time": "2025-03-29T11:24:01.967Z"
   },
   {
    "duration": 109,
    "start_time": "2025-03-29T11:24:01.971Z"
   },
   {
    "duration": 1677,
    "start_time": "2025-03-29T11:24:02.082Z"
   },
   {
    "duration": 85,
    "start_time": "2025-03-29T11:24:03.760Z"
   },
   {
    "duration": 23,
    "start_time": "2025-03-29T11:24:03.847Z"
   },
   {
    "duration": 217,
    "start_time": "2025-03-29T11:24:03.872Z"
   },
   {
    "duration": 18,
    "start_time": "2025-03-29T11:24:04.090Z"
   },
   {
    "duration": 3823,
    "start_time": "2025-03-29T11:24:04.110Z"
   },
   {
    "duration": 44,
    "start_time": "2025-03-29T11:24:07.937Z"
   },
   {
    "duration": 2762,
    "start_time": "2025-03-29T11:24:07.983Z"
   },
   {
    "duration": 732,
    "start_time": "2025-03-29T11:24:10.746Z"
   },
   {
    "duration": 52,
    "start_time": "2025-03-29T11:24:11.479Z"
   },
   {
    "duration": 3,
    "start_time": "2025-03-29T11:24:11.532Z"
   },
   {
    "duration": 105,
    "start_time": "2025-03-29T11:25:25.801Z"
   },
   {
    "duration": 4,
    "start_time": "2025-03-29T11:25:48.331Z"
   },
   {
    "duration": 9,
    "start_time": "2025-03-29T11:31:22.489Z"
   },
   {
    "duration": 4,
    "start_time": "2025-03-29T11:31:48.482Z"
   },
   {
    "duration": 10,
    "start_time": "2025-03-29T11:31:51.862Z"
   },
   {
    "duration": 3,
    "start_time": "2025-03-29T11:34:08.172Z"
   },
   {
    "duration": 9,
    "start_time": "2025-03-29T11:35:09.534Z"
   },
   {
    "duration": 5,
    "start_time": "2025-03-29T11:35:36.597Z"
   },
   {
    "duration": 3,
    "start_time": "2025-03-29T11:35:38.622Z"
   },
   {
    "duration": 3,
    "start_time": "2025-03-29T11:36:22.702Z"
   },
   {
    "duration": 3,
    "start_time": "2025-03-29T11:36:42.374Z"
   },
   {
    "duration": 12,
    "start_time": "2025-03-29T12:09:07.186Z"
   },
   {
    "duration": 105,
    "start_time": "2025-03-29T12:15:37.626Z"
   },
   {
    "duration": 11,
    "start_time": "2025-03-29T12:15:41.299Z"
   },
   {
    "duration": 3,
    "start_time": "2025-03-29T12:15:56.001Z"
   },
   {
    "duration": 3,
    "start_time": "2025-03-29T12:15:58.934Z"
   },
   {
    "duration": 4,
    "start_time": "2025-03-29T12:16:17.268Z"
   },
   {
    "duration": 13,
    "start_time": "2025-03-29T12:18:57.402Z"
   },
   {
    "duration": 4,
    "start_time": "2025-03-29T12:19:09.397Z"
   },
   {
    "duration": 13,
    "start_time": "2025-03-29T12:19:20.143Z"
   },
   {
    "duration": 5,
    "start_time": "2025-03-29T12:19:32.740Z"
   },
   {
    "duration": 7,
    "start_time": "2025-03-29T12:19:34.771Z"
   },
   {
    "duration": 5,
    "start_time": "2025-03-29T12:20:26.155Z"
   },
   {
    "duration": 5,
    "start_time": "2025-03-29T12:23:02.837Z"
   },
   {
    "duration": 3111,
    "start_time": "2025-03-29T12:23:19.402Z"
   },
   {
    "duration": 1361,
    "start_time": "2025-03-29T12:24:31.473Z"
   },
   {
    "duration": 472,
    "start_time": "2025-03-29T12:24:32.836Z"
   },
   {
    "duration": 102,
    "start_time": "2025-03-29T12:24:33.309Z"
   },
   {
    "duration": 1591,
    "start_time": "2025-03-29T12:24:33.413Z"
   },
   {
    "duration": 921,
    "start_time": "2025-03-29T12:24:35.006Z"
   },
   {
    "duration": 2,
    "start_time": "2025-03-29T12:24:35.929Z"
   },
   {
    "duration": 112,
    "start_time": "2025-03-29T12:24:35.933Z"
   },
   {
    "duration": 1672,
    "start_time": "2025-03-29T12:24:36.046Z"
   },
   {
    "duration": 84,
    "start_time": "2025-03-29T12:24:37.720Z"
   },
   {
    "duration": 16,
    "start_time": "2025-03-29T12:24:37.805Z"
   },
   {
    "duration": 147,
    "start_time": "2025-03-29T12:24:37.822Z"
   },
   {
    "duration": 16,
    "start_time": "2025-03-29T12:24:37.970Z"
   },
   {
    "duration": 3794,
    "start_time": "2025-03-29T12:24:37.987Z"
   },
   {
    "duration": 35,
    "start_time": "2025-03-29T12:24:41.783Z"
   },
   {
    "duration": 2742,
    "start_time": "2025-03-29T12:24:41.820Z"
   },
   {
    "duration": 616,
    "start_time": "2025-03-29T12:24:44.564Z"
   },
   {
    "duration": 49,
    "start_time": "2025-03-29T12:24:45.182Z"
   },
   {
    "duration": 2,
    "start_time": "2025-03-29T12:24:45.233Z"
   },
   {
    "duration": 24,
    "start_time": "2025-03-29T12:24:45.236Z"
   },
   {
    "duration": 33,
    "start_time": "2025-03-29T12:24:45.261Z"
   },
   {
    "duration": 11,
    "start_time": "2025-03-29T12:24:45.296Z"
   },
   {
    "duration": 150,
    "start_time": "2025-03-29T12:24:45.309Z"
   },
   {
    "duration": 0,
    "start_time": "2025-03-29T12:24:45.461Z"
   },
   {
    "duration": 5,
    "start_time": "2025-03-29T12:24:54.391Z"
   },
   {
    "duration": 2843,
    "start_time": "2025-03-29T12:24:57.035Z"
   },
   {
    "duration": 6707,
    "start_time": "2025-03-29T13:48:32.710Z"
   },
   {
    "duration": 2912,
    "start_time": "2025-03-29T13:48:44.236Z"
   },
   {
    "duration": 2904,
    "start_time": "2025-03-29T13:48:55.587Z"
   },
   {
    "duration": 1310,
    "start_time": "2025-03-29T13:48:58.493Z"
   },
   {
    "duration": 484,
    "start_time": "2025-03-29T13:48:59.805Z"
   },
   {
    "duration": 110,
    "start_time": "2025-03-29T13:49:00.291Z"
   },
   {
    "duration": 1632,
    "start_time": "2025-03-29T13:49:00.403Z"
   },
   {
    "duration": 932,
    "start_time": "2025-03-29T13:49:02.036Z"
   },
   {
    "duration": 3,
    "start_time": "2025-03-29T13:49:02.969Z"
   },
   {
    "duration": 155,
    "start_time": "2025-03-29T13:49:02.973Z"
   },
   {
    "duration": 1724,
    "start_time": "2025-03-29T13:49:03.129Z"
   },
   {
    "duration": 79,
    "start_time": "2025-03-29T13:49:04.857Z"
   },
   {
    "duration": 29,
    "start_time": "2025-03-29T13:49:04.938Z"
   },
   {
    "duration": 139,
    "start_time": "2025-03-29T13:49:04.968Z"
   },
   {
    "duration": 16,
    "start_time": "2025-03-29T13:49:05.108Z"
   },
   {
    "duration": 3899,
    "start_time": "2025-03-29T13:49:05.126Z"
   },
   {
    "duration": 43,
    "start_time": "2025-03-29T13:49:09.027Z"
   },
   {
    "duration": 2819,
    "start_time": "2025-03-29T13:49:09.071Z"
   },
   {
    "duration": 616,
    "start_time": "2025-03-29T13:49:11.892Z"
   },
   {
    "duration": 59,
    "start_time": "2025-03-29T13:49:12.510Z"
   },
   {
    "duration": 3,
    "start_time": "2025-03-29T13:49:12.570Z"
   },
   {
    "duration": 119,
    "start_time": "2025-03-29T13:49:12.575Z"
   },
   {
    "duration": 0,
    "start_time": "2025-03-29T13:49:12.695Z"
   },
   {
    "duration": 0,
    "start_time": "2025-03-29T13:49:12.696Z"
   },
   {
    "duration": 0,
    "start_time": "2025-03-29T13:49:12.697Z"
   },
   {
    "duration": 0,
    "start_time": "2025-03-29T13:49:12.698Z"
   },
   {
    "duration": 3,
    "start_time": "2025-03-29T13:49:30.905Z"
   },
   {
    "duration": 3,
    "start_time": "2025-03-29T13:49:31.963Z"
   },
   {
    "duration": 3,
    "start_time": "2025-03-29T13:49:32.324Z"
   },
   {
    "duration": 4,
    "start_time": "2025-03-29T13:49:32.645Z"
   },
   {
    "duration": 48,
    "start_time": "2025-03-29T13:49:49.458Z"
   },
   {
    "duration": 3011,
    "start_time": "2025-03-29T13:49:54.566Z"
   },
   {
    "duration": 2508,
    "start_time": "2025-03-29T13:49:57.579Z"
   },
   {
    "duration": 373,
    "start_time": "2025-03-29T13:50:00.088Z"
   },
   {
    "duration": 112,
    "start_time": "2025-03-29T13:50:00.462Z"
   },
   {
    "duration": 1645,
    "start_time": "2025-03-29T13:50:00.576Z"
   },
   {
    "duration": 968,
    "start_time": "2025-03-29T13:50:02.222Z"
   },
   {
    "duration": 4,
    "start_time": "2025-03-29T13:50:03.192Z"
   },
   {
    "duration": 163,
    "start_time": "2025-03-29T13:50:03.198Z"
   },
   {
    "duration": 1705,
    "start_time": "2025-03-29T13:50:03.362Z"
   },
   {
    "duration": 89,
    "start_time": "2025-03-29T13:50:05.068Z"
   },
   {
    "duration": 17,
    "start_time": "2025-03-29T13:50:05.159Z"
   },
   {
    "duration": 139,
    "start_time": "2025-03-29T13:50:05.178Z"
   },
   {
    "duration": 16,
    "start_time": "2025-03-29T13:50:05.319Z"
   },
   {
    "duration": 3751,
    "start_time": "2025-03-29T13:50:05.338Z"
   },
   {
    "duration": 35,
    "start_time": "2025-03-29T13:50:09.091Z"
   },
   {
    "duration": 2797,
    "start_time": "2025-03-29T13:50:09.128Z"
   },
   {
    "duration": 641,
    "start_time": "2025-03-29T13:50:11.927Z"
   },
   {
    "duration": 49,
    "start_time": "2025-03-29T13:50:12.570Z"
   },
   {
    "duration": 2,
    "start_time": "2025-03-29T13:50:12.621Z"
   },
   {
    "duration": 13,
    "start_time": "2025-03-29T13:50:12.625Z"
   },
   {
    "duration": 17,
    "start_time": "2025-03-29T13:50:12.640Z"
   },
   {
    "duration": 9,
    "start_time": "2025-03-29T13:50:12.658Z"
   },
   {
    "duration": 4,
    "start_time": "2025-03-29T13:50:12.668Z"
   },
   {
    "duration": 2894,
    "start_time": "2025-03-29T13:50:33.859Z"
   },
   {
    "duration": 2312,
    "start_time": "2025-03-29T13:50:36.755Z"
   },
   {
    "duration": 336,
    "start_time": "2025-03-29T13:50:39.069Z"
   },
   {
    "duration": 96,
    "start_time": "2025-03-29T13:50:39.406Z"
   },
   {
    "duration": 1593,
    "start_time": "2025-03-29T13:50:39.504Z"
   },
   {
    "duration": 940,
    "start_time": "2025-03-29T13:50:41.099Z"
   },
   {
    "duration": 3,
    "start_time": "2025-03-29T13:50:42.040Z"
   },
   {
    "duration": 111,
    "start_time": "2025-03-29T13:50:42.044Z"
   },
   {
    "duration": 1731,
    "start_time": "2025-03-29T13:50:42.157Z"
   },
   {
    "duration": 91,
    "start_time": "2025-03-29T13:50:43.890Z"
   },
   {
    "duration": 20,
    "start_time": "2025-03-29T13:50:43.982Z"
   },
   {
    "duration": 156,
    "start_time": "2025-03-29T13:50:44.003Z"
   },
   {
    "duration": 16,
    "start_time": "2025-03-29T13:50:44.161Z"
   },
   {
    "duration": 3817,
    "start_time": "2025-03-29T13:50:44.180Z"
   },
   {
    "duration": 34,
    "start_time": "2025-03-29T13:50:47.999Z"
   },
   {
    "duration": 2885,
    "start_time": "2025-03-29T13:50:48.035Z"
   },
   {
    "duration": 637,
    "start_time": "2025-03-29T13:50:50.921Z"
   },
   {
    "duration": 47,
    "start_time": "2025-03-29T13:50:51.560Z"
   },
   {
    "duration": 21,
    "start_time": "2025-03-29T13:50:51.609Z"
   },
   {
    "duration": 7,
    "start_time": "2025-03-29T13:50:51.631Z"
   },
   {
    "duration": 9,
    "start_time": "2025-03-29T13:50:51.640Z"
   },
   {
    "duration": 3,
    "start_time": "2025-03-29T13:50:51.650Z"
   },
   {
    "duration": 5,
    "start_time": "2025-03-29T13:50:51.654Z"
   },
   {
    "duration": 2867,
    "start_time": "2025-03-29T13:52:30.240Z"
   },
   {
    "duration": 2361,
    "start_time": "2025-03-29T13:52:33.109Z"
   },
   {
    "duration": 321,
    "start_time": "2025-03-29T13:52:35.471Z"
   },
   {
    "duration": 107,
    "start_time": "2025-03-29T13:52:35.794Z"
   },
   {
    "duration": 1575,
    "start_time": "2025-03-29T13:52:35.902Z"
   },
   {
    "duration": 904,
    "start_time": "2025-03-29T13:52:37.478Z"
   },
   {
    "duration": 2,
    "start_time": "2025-03-29T13:52:38.384Z"
   },
   {
    "duration": 112,
    "start_time": "2025-03-29T13:52:38.388Z"
   },
   {
    "duration": 1721,
    "start_time": "2025-03-29T13:52:38.501Z"
   },
   {
    "duration": 88,
    "start_time": "2025-03-29T13:52:40.224Z"
   },
   {
    "duration": 15,
    "start_time": "2025-03-29T13:52:40.314Z"
   },
   {
    "duration": 141,
    "start_time": "2025-03-29T13:52:40.331Z"
   },
   {
    "duration": 16,
    "start_time": "2025-03-29T13:52:40.473Z"
   },
   {
    "duration": 3764,
    "start_time": "2025-03-29T13:52:40.490Z"
   },
   {
    "duration": 36,
    "start_time": "2025-03-29T13:52:44.257Z"
   },
   {
    "duration": 2876,
    "start_time": "2025-03-29T13:52:44.294Z"
   },
   {
    "duration": 609,
    "start_time": "2025-03-29T13:52:47.172Z"
   },
   {
    "duration": 50,
    "start_time": "2025-03-29T13:52:47.783Z"
   },
   {
    "duration": 3,
    "start_time": "2025-03-29T13:52:47.834Z"
   },
   {
    "duration": 3,
    "start_time": "2025-03-29T13:52:47.857Z"
   },
   {
    "duration": 5,
    "start_time": "2025-03-29T13:52:47.861Z"
   },
   {
    "duration": 12,
    "start_time": "2025-03-29T13:52:47.867Z"
   },
   {
    "duration": 4,
    "start_time": "2025-03-29T13:52:47.881Z"
   },
   {
    "duration": 48,
    "start_time": "2025-03-29T13:53:06.065Z"
   },
   {
    "duration": 2833,
    "start_time": "2025-03-29T13:53:10.290Z"
   },
   {
    "duration": 2275,
    "start_time": "2025-03-29T13:53:13.125Z"
   },
   {
    "duration": 326,
    "start_time": "2025-03-29T13:53:15.402Z"
   },
   {
    "duration": 105,
    "start_time": "2025-03-29T13:53:15.729Z"
   },
   {
    "duration": 1565,
    "start_time": "2025-03-29T13:53:15.836Z"
   },
   {
    "duration": 917,
    "start_time": "2025-03-29T13:53:17.403Z"
   },
   {
    "duration": 3,
    "start_time": "2025-03-29T13:53:18.322Z"
   },
   {
    "duration": 137,
    "start_time": "2025-03-29T13:53:18.326Z"
   },
   {
    "duration": 1743,
    "start_time": "2025-03-29T13:53:18.464Z"
   },
   {
    "duration": 88,
    "start_time": "2025-03-29T13:53:20.208Z"
   },
   {
    "duration": 17,
    "start_time": "2025-03-29T13:53:20.298Z"
   },
   {
    "duration": 152,
    "start_time": "2025-03-29T13:53:20.317Z"
   },
   {
    "duration": 20,
    "start_time": "2025-03-29T13:53:20.470Z"
   },
   {
    "duration": 3851,
    "start_time": "2025-03-29T13:53:20.493Z"
   },
   {
    "duration": 41,
    "start_time": "2025-03-29T13:53:24.346Z"
   },
   {
    "duration": 2819,
    "start_time": "2025-03-29T13:53:24.388Z"
   },
   {
    "duration": 659,
    "start_time": "2025-03-29T13:53:27.208Z"
   },
   {
    "duration": 49,
    "start_time": "2025-03-29T13:53:27.869Z"
   },
   {
    "duration": 3,
    "start_time": "2025-03-29T13:53:27.920Z"
   },
   {
    "duration": 38,
    "start_time": "2025-03-29T13:53:27.924Z"
   },
   {
    "duration": 9,
    "start_time": "2025-03-29T13:53:27.964Z"
   },
   {
    "duration": 13,
    "start_time": "2025-03-29T13:53:27.974Z"
   },
   {
    "duration": 5,
    "start_time": "2025-03-29T13:53:27.989Z"
   },
   {
    "duration": 7343,
    "start_time": "2025-03-29T13:53:27.996Z"
   },
   {
    "duration": 3,
    "start_time": "2025-03-29T13:54:34.782Z"
   },
   {
    "duration": 7197,
    "start_time": "2025-03-29T13:54:36.134Z"
   },
   {
    "duration": 20,
    "start_time": "2025-03-29T13:55:08.380Z"
   },
   {
    "duration": 4,
    "start_time": "2025-03-29T13:55:12.653Z"
   },
   {
    "duration": 19,
    "start_time": "2025-03-29T13:55:15.614Z"
   },
   {
    "duration": 50,
    "start_time": "2025-03-29T13:56:00.134Z"
   },
   {
    "duration": 2897,
    "start_time": "2025-03-29T13:56:15.875Z"
   },
   {
    "duration": 2333,
    "start_time": "2025-03-29T13:56:18.774Z"
   },
   {
    "duration": 455,
    "start_time": "2025-03-29T13:56:21.109Z"
   },
   {
    "duration": 103,
    "start_time": "2025-03-29T13:56:21.565Z"
   },
   {
    "duration": 1689,
    "start_time": "2025-03-29T13:56:21.670Z"
   },
   {
    "duration": 930,
    "start_time": "2025-03-29T13:56:23.361Z"
   },
   {
    "duration": 3,
    "start_time": "2025-03-29T13:56:24.293Z"
   },
   {
    "duration": 110,
    "start_time": "2025-03-29T13:56:24.297Z"
   },
   {
    "duration": 1784,
    "start_time": "2025-03-29T13:56:24.409Z"
   },
   {
    "duration": 89,
    "start_time": "2025-03-29T13:56:26.194Z"
   },
   {
    "duration": 16,
    "start_time": "2025-03-29T13:56:26.285Z"
   },
   {
    "duration": 164,
    "start_time": "2025-03-29T13:56:26.303Z"
   },
   {
    "duration": 15,
    "start_time": "2025-03-29T13:56:26.469Z"
   },
   {
    "duration": 3945,
    "start_time": "2025-03-29T13:56:26.486Z"
   },
   {
    "duration": 46,
    "start_time": "2025-03-29T13:56:30.432Z"
   },
   {
    "duration": 2943,
    "start_time": "2025-03-29T13:56:30.480Z"
   },
   {
    "duration": 679,
    "start_time": "2025-03-29T13:56:33.425Z"
   },
   {
    "duration": 63,
    "start_time": "2025-03-29T13:56:34.105Z"
   },
   {
    "duration": 3,
    "start_time": "2025-03-29T13:56:34.169Z"
   },
   {
    "duration": 11,
    "start_time": "2025-03-29T13:56:34.174Z"
   },
   {
    "duration": 10,
    "start_time": "2025-03-29T13:56:34.186Z"
   },
   {
    "duration": 19,
    "start_time": "2025-03-29T13:56:34.198Z"
   },
   {
    "duration": 5,
    "start_time": "2025-03-29T13:56:34.219Z"
   },
   {
    "duration": 23,
    "start_time": "2025-03-29T13:56:34.226Z"
   },
   {
    "duration": 48,
    "start_time": "2025-03-29T14:00:11.819Z"
   },
   {
    "duration": 8,
    "start_time": "2025-03-29T14:03:02.719Z"
   },
   {
    "duration": 2967,
    "start_time": "2025-03-29T14:03:42.958Z"
   },
   {
    "duration": 12904,
    "start_time": "2025-03-29T14:03:45.928Z"
   },
   {
    "duration": 319,
    "start_time": "2025-03-29T14:03:58.835Z"
   },
   {
    "duration": 107,
    "start_time": "2025-03-29T14:03:59.156Z"
   },
   {
    "duration": 1566,
    "start_time": "2025-03-29T14:03:59.265Z"
   },
   {
    "duration": 927,
    "start_time": "2025-03-29T14:04:00.833Z"
   },
   {
    "duration": 3,
    "start_time": "2025-03-29T14:04:01.762Z"
   },
   {
    "duration": 122,
    "start_time": "2025-03-29T14:04:01.767Z"
   },
   {
    "duration": 1669,
    "start_time": "2025-03-29T14:04:01.891Z"
   },
   {
    "duration": 77,
    "start_time": "2025-03-29T14:04:03.561Z"
   },
   {
    "duration": 30,
    "start_time": "2025-03-29T14:04:03.639Z"
   },
   {
    "duration": 133,
    "start_time": "2025-03-29T14:04:03.671Z"
   },
   {
    "duration": 16,
    "start_time": "2025-03-29T14:04:03.806Z"
   },
   {
    "duration": 3825,
    "start_time": "2025-03-29T14:04:03.825Z"
   },
   {
    "duration": 35,
    "start_time": "2025-03-29T14:04:07.652Z"
   },
   {
    "duration": 2873,
    "start_time": "2025-03-29T14:04:07.689Z"
   },
   {
    "duration": 615,
    "start_time": "2025-03-29T14:04:10.563Z"
   },
   {
    "duration": 48,
    "start_time": "2025-03-29T14:04:11.180Z"
   },
   {
    "duration": 3,
    "start_time": "2025-03-29T14:04:11.229Z"
   },
   {
    "duration": 50,
    "start_time": "2025-03-29T14:04:11.233Z"
   },
   {
    "duration": 4,
    "start_time": "2025-03-29T14:04:11.285Z"
   },
   {
    "duration": 5,
    "start_time": "2025-03-29T14:04:11.291Z"
   },
   {
    "duration": 11,
    "start_time": "2025-03-29T14:04:11.298Z"
   },
   {
    "duration": 26265,
    "start_time": "2025-03-29T14:04:11.311Z"
   },
   {
    "duration": 0,
    "start_time": "2025-03-29T14:04:37.577Z"
   },
   {
    "duration": 2912,
    "start_time": "2025-03-29T14:05:51.100Z"
   },
   {
    "duration": 1190,
    "start_time": "2025-03-29T14:05:54.014Z"
   },
   {
    "duration": 304,
    "start_time": "2025-03-29T14:05:55.206Z"
   },
   {
    "duration": 106,
    "start_time": "2025-03-29T14:05:55.511Z"
   },
   {
    "duration": 1580,
    "start_time": "2025-03-29T14:05:55.619Z"
   },
   {
    "duration": 962,
    "start_time": "2025-03-29T14:05:57.201Z"
   },
   {
    "duration": 2,
    "start_time": "2025-03-29T14:05:58.165Z"
   },
   {
    "duration": 110,
    "start_time": "2025-03-29T14:05:58.169Z"
   },
   {
    "duration": 1721,
    "start_time": "2025-03-29T14:05:58.281Z"
   },
   {
    "duration": 88,
    "start_time": "2025-03-29T14:06:00.004Z"
   },
   {
    "duration": 14,
    "start_time": "2025-03-29T14:06:00.094Z"
   },
   {
    "duration": 144,
    "start_time": "2025-03-29T14:06:00.110Z"
   },
   {
    "duration": 16,
    "start_time": "2025-03-29T14:06:00.256Z"
   },
   {
    "duration": 4010,
    "start_time": "2025-03-29T14:06:00.275Z"
   },
   {
    "duration": 33,
    "start_time": "2025-03-29T14:06:04.287Z"
   },
   {
    "duration": 2902,
    "start_time": "2025-03-29T14:06:04.322Z"
   },
   {
    "duration": 651,
    "start_time": "2025-03-29T14:06:07.225Z"
   },
   {
    "duration": 48,
    "start_time": "2025-03-29T14:06:07.877Z"
   },
   {
    "duration": 3,
    "start_time": "2025-03-29T14:06:07.927Z"
   },
   {
    "duration": 84,
    "start_time": "2025-03-29T14:06:07.931Z"
   },
   {
    "duration": 11,
    "start_time": "2025-03-29T14:06:08.017Z"
   },
   {
    "duration": 9,
    "start_time": "2025-03-29T14:06:08.030Z"
   },
   {
    "duration": 8,
    "start_time": "2025-03-29T14:06:08.040Z"
   },
   {
    "duration": 19318,
    "start_time": "2025-03-29T14:06:08.049Z"
   },
   {
    "duration": 16,
    "start_time": "2025-03-29T14:06:27.369Z"
   },
   {
    "duration": 21126,
    "start_time": "2025-03-29T14:08:18.878Z"
   },
   {
    "duration": 4,
    "start_time": "2025-03-29T14:09:34.263Z"
   },
   {
    "duration": 101478,
    "start_time": "2025-03-29T14:09:36.050Z"
   },
   {
    "duration": 4,
    "start_time": "2025-03-29T14:14:52.316Z"
   },
   {
    "duration": 120,
    "start_time": "2025-03-29T14:20:51.560Z"
   },
   {
    "duration": 12,
    "start_time": "2025-03-29T14:21:02.357Z"
   },
   {
    "duration": 4143,
    "start_time": "2025-03-29T14:21:04.589Z"
   },
   {
    "duration": 627,
    "start_time": "2025-03-29T14:21:08.734Z"
   },
   {
    "duration": 109,
    "start_time": "2025-03-29T14:21:26.177Z"
   },
   {
    "duration": 79,
    "start_time": "2025-03-29T14:22:23.855Z"
   },
   {
    "duration": 4,
    "start_time": "2025-03-29T14:24:06.669Z"
   },
   {
    "duration": 100066,
    "start_time": "2025-03-29T14:24:08.184Z"
   },
   {
    "duration": 3,
    "start_time": "2025-03-29T14:26:18.950Z"
   },
   {
    "duration": 73,
    "start_time": "2025-03-29T14:26:22.858Z"
   },
   {
    "duration": 99462,
    "start_time": "2025-03-29T14:26:26.865Z"
   },
   {
    "duration": 80,
    "start_time": "2025-03-29T14:30:45.322Z"
   },
   {
    "duration": 3,
    "start_time": "2025-03-29T14:31:26.350Z"
   },
   {
    "duration": 101468,
    "start_time": "2025-03-29T14:31:29.971Z"
   },
   {
    "duration": 75,
    "start_time": "2025-03-29T14:56:16.672Z"
   },
   {
    "duration": 3,
    "start_time": "2025-03-29T14:58:04.823Z"
   },
   {
    "duration": 3,
    "start_time": "2025-03-29T14:58:36.465Z"
   },
   {
    "duration": 10,
    "start_time": "2025-03-29T14:58:42.854Z"
   },
   {
    "duration": 82,
    "start_time": "2025-03-29T14:59:08.688Z"
   },
   {
    "duration": 74,
    "start_time": "2025-03-29T14:59:45.401Z"
   },
   {
    "duration": 6,
    "start_time": "2025-03-29T14:59:55.301Z"
   },
   {
    "duration": 3,
    "start_time": "2025-03-29T15:00:07.516Z"
   },
   {
    "duration": 15,
    "start_time": "2025-03-29T15:00:17.030Z"
   },
   {
    "duration": 2951,
    "start_time": "2025-03-29T15:05:01.747Z"
   },
   {
    "duration": 2333,
    "start_time": "2025-03-29T15:05:04.701Z"
   },
   {
    "duration": 1626,
    "start_time": "2025-03-29T15:05:07.035Z"
   },
   {
    "duration": 570,
    "start_time": "2025-03-29T15:05:08.663Z"
   },
   {
    "duration": 96,
    "start_time": "2025-03-29T15:05:09.236Z"
   },
   {
    "duration": 1564,
    "start_time": "2025-03-29T15:05:09.334Z"
   },
   {
    "duration": 900,
    "start_time": "2025-03-29T15:05:10.901Z"
   },
   {
    "duration": 3,
    "start_time": "2025-03-29T15:05:11.802Z"
   },
   {
    "duration": 106,
    "start_time": "2025-03-29T15:05:11.806Z"
   },
   {
    "duration": 1603,
    "start_time": "2025-03-29T15:05:11.914Z"
   },
   {
    "duration": 87,
    "start_time": "2025-03-29T15:05:13.518Z"
   },
   {
    "duration": 17,
    "start_time": "2025-03-29T15:05:13.607Z"
   },
   {
    "duration": 149,
    "start_time": "2025-03-29T15:05:13.625Z"
   },
   {
    "duration": 15,
    "start_time": "2025-03-29T15:05:13.777Z"
   },
   {
    "duration": 3854,
    "start_time": "2025-03-29T15:05:13.793Z"
   },
   {
    "duration": 40,
    "start_time": "2025-03-29T15:05:17.648Z"
   },
   {
    "duration": 2756,
    "start_time": "2025-03-29T15:05:17.689Z"
   },
   {
    "duration": 763,
    "start_time": "2025-03-29T15:05:20.447Z"
   },
   {
    "duration": 61,
    "start_time": "2025-03-29T15:05:21.211Z"
   },
   {
    "duration": 3,
    "start_time": "2025-03-29T15:05:21.273Z"
   },
   {
    "duration": 6,
    "start_time": "2025-03-29T15:05:21.277Z"
   },
   {
    "duration": 8,
    "start_time": "2025-03-29T15:05:21.284Z"
   },
   {
    "duration": 4,
    "start_time": "2025-03-29T15:05:21.294Z"
   },
   {
    "duration": 7,
    "start_time": "2025-03-29T15:05:21.299Z"
   },
   {
    "duration": 102133,
    "start_time": "2025-03-29T15:05:21.308Z"
   },
   {
    "duration": 215,
    "start_time": "2025-03-29T15:07:03.443Z"
   },
   {
    "duration": 0,
    "start_time": "2025-03-29T15:07:03.660Z"
   },
   {
    "duration": 0,
    "start_time": "2025-03-29T15:07:03.661Z"
   },
   {
    "duration": 0,
    "start_time": "2025-03-29T15:07:03.662Z"
   },
   {
    "duration": 0,
    "start_time": "2025-03-29T15:07:03.663Z"
   },
   {
    "duration": 0,
    "start_time": "2025-03-29T15:07:03.665Z"
   },
   {
    "duration": 0,
    "start_time": "2025-03-29T15:07:03.666Z"
   },
   {
    "duration": 65,
    "start_time": "2025-03-29T15:13:08.145Z"
   },
   {
    "duration": 8,
    "start_time": "2025-03-29T15:13:08.822Z"
   },
   {
    "duration": 3,
    "start_time": "2025-03-29T15:13:19.956Z"
   },
   {
    "duration": 576,
    "start_time": "2025-03-29T15:13:20.698Z"
   },
   {
    "duration": 15,
    "start_time": "2025-03-29T15:13:23.989Z"
   },
   {
    "duration": 13,
    "start_time": "2025-03-29T15:13:42.149Z"
   },
   {
    "duration": 3014,
    "start_time": "2025-03-29T15:17:31.329Z"
   },
   {
    "duration": 2415,
    "start_time": "2025-03-29T15:17:34.345Z"
   },
   {
    "duration": 1634,
    "start_time": "2025-03-29T15:17:36.762Z"
   },
   {
    "duration": 483,
    "start_time": "2025-03-29T15:17:38.398Z"
   },
   {
    "duration": 116,
    "start_time": "2025-03-29T15:17:38.884Z"
   },
   {
    "duration": 1603,
    "start_time": "2025-03-29T15:17:39.001Z"
   },
   {
    "duration": 921,
    "start_time": "2025-03-29T15:17:40.606Z"
   },
   {
    "duration": 3,
    "start_time": "2025-03-29T15:17:41.529Z"
   },
   {
    "duration": 137,
    "start_time": "2025-03-29T15:17:41.534Z"
   },
   {
    "duration": 1660,
    "start_time": "2025-03-29T15:17:41.672Z"
   },
   {
    "duration": 90,
    "start_time": "2025-03-29T15:17:43.334Z"
   },
   {
    "duration": 16,
    "start_time": "2025-03-29T15:17:43.426Z"
   },
   {
    "duration": 144,
    "start_time": "2025-03-29T15:17:43.456Z"
   },
   {
    "duration": 16,
    "start_time": "2025-03-29T15:17:43.603Z"
   },
   {
    "duration": 4025,
    "start_time": "2025-03-29T15:17:43.620Z"
   },
   {
    "duration": 41,
    "start_time": "2025-03-29T15:17:47.647Z"
   },
   {
    "duration": 2787,
    "start_time": "2025-03-29T15:17:47.690Z"
   },
   {
    "duration": 753,
    "start_time": "2025-03-29T15:17:50.478Z"
   },
   {
    "duration": 57,
    "start_time": "2025-03-29T15:17:51.233Z"
   },
   {
    "duration": 27,
    "start_time": "2025-03-29T15:17:51.292Z"
   },
   {
    "duration": 4,
    "start_time": "2025-03-29T15:17:51.320Z"
   },
   {
    "duration": 38,
    "start_time": "2025-03-29T15:17:51.326Z"
   },
   {
    "duration": 19,
    "start_time": "2025-03-29T15:17:51.365Z"
   },
   {
    "duration": 4,
    "start_time": "2025-03-29T15:17:51.385Z"
   },
   {
    "duration": 103931,
    "start_time": "2025-03-29T15:17:51.391Z"
   },
   {
    "duration": 75,
    "start_time": "2025-03-29T15:19:35.324Z"
   },
   {
    "duration": 6,
    "start_time": "2025-03-29T15:19:35.400Z"
   },
   {
    "duration": 45,
    "start_time": "2025-03-29T15:19:35.407Z"
   },
   {
    "duration": 167,
    "start_time": "2025-03-29T15:19:35.453Z"
   },
   {
    "duration": 290803,
    "start_time": "2025-03-29T15:19:58.156Z"
   },
   {
    "duration": 4,
    "start_time": "2025-03-29T15:28:27.879Z"
   },
   {
    "duration": 292463,
    "start_time": "2025-03-29T15:28:58.947Z"
   },
   {
    "duration": 1435,
    "start_time": "2025-04-02T01:24:40.985Z"
   },
   {
    "duration": 90,
    "start_time": "2025-04-02T01:25:09.497Z"
   },
   {
    "duration": 6304,
    "start_time": "2025-04-02T01:25:22.576Z"
   },
   {
    "duration": 4102,
    "start_time": "2025-04-02T01:25:28.882Z"
   },
   {
    "duration": 1748,
    "start_time": "2025-04-02T01:25:32.986Z"
   },
   {
    "duration": 519,
    "start_time": "2025-04-02T01:25:34.736Z"
   },
   {
    "duration": 104,
    "start_time": "2025-04-02T01:25:35.258Z"
   },
   {
    "duration": 1649,
    "start_time": "2025-04-02T01:25:35.364Z"
   },
   {
    "duration": 942,
    "start_time": "2025-04-02T01:25:37.014Z"
   },
   {
    "duration": 3,
    "start_time": "2025-04-02T01:25:37.958Z"
   },
   {
    "duration": 150,
    "start_time": "2025-04-02T01:25:37.962Z"
   },
   {
    "duration": 1612,
    "start_time": "2025-04-02T01:25:38.114Z"
   },
   {
    "duration": 97,
    "start_time": "2025-04-02T01:25:39.727Z"
   },
   {
    "duration": 16,
    "start_time": "2025-04-02T01:25:39.826Z"
   },
   {
    "duration": 159,
    "start_time": "2025-04-02T01:25:39.843Z"
   },
   {
    "duration": 16,
    "start_time": "2025-04-02T01:25:40.005Z"
   },
   {
    "duration": 4027,
    "start_time": "2025-04-02T01:25:40.022Z"
   },
   {
    "duration": 46,
    "start_time": "2025-04-02T01:25:44.050Z"
   },
   {
    "duration": 2812,
    "start_time": "2025-04-02T01:25:44.098Z"
   },
   {
    "duration": 753,
    "start_time": "2025-04-02T01:25:46.911Z"
   },
   {
    "duration": 59,
    "start_time": "2025-04-02T01:25:47.666Z"
   },
   {
    "duration": 3,
    "start_time": "2025-04-02T01:25:47.727Z"
   },
   {
    "duration": 11,
    "start_time": "2025-04-02T01:25:47.731Z"
   },
   {
    "duration": 31,
    "start_time": "2025-04-02T01:25:47.743Z"
   },
   {
    "duration": 6,
    "start_time": "2025-04-02T01:25:47.776Z"
   },
   {
    "duration": 5,
    "start_time": "2025-04-02T01:25:47.783Z"
   },
   {
    "duration": 104665,
    "start_time": "2025-04-02T01:25:47.789Z"
   },
   {
    "duration": 148,
    "start_time": "2025-04-02T01:27:32.456Z"
   },
   {
    "duration": 0,
    "start_time": "2025-04-02T01:27:32.605Z"
   },
   {
    "duration": 0,
    "start_time": "2025-04-02T01:27:32.606Z"
   },
   {
    "duration": 0,
    "start_time": "2025-04-02T01:27:32.607Z"
   },
   {
    "duration": 4,
    "start_time": "2025-04-02T01:41:55.152Z"
   },
   {
    "duration": 12,
    "start_time": "2025-04-02T01:41:56.449Z"
   },
   {
    "duration": 68,
    "start_time": "2025-04-02T01:43:38.718Z"
   },
   {
    "duration": 3,
    "start_time": "2025-04-02T01:43:39.811Z"
   },
   {
    "duration": 305114,
    "start_time": "2025-04-02T01:43:41.106Z"
   },
   {
    "duration": 10,
    "start_time": "2025-04-02T01:50:10.326Z"
   },
   {
    "duration": 30,
    "start_time": "2025-04-02T01:50:32.015Z"
   },
   {
    "duration": 15,
    "start_time": "2025-04-02T01:52:34.484Z"
   },
   {
    "duration": 461,
    "start_time": "2025-04-02T01:52:56.632Z"
   },
   {
    "duration": 4,
    "start_time": "2025-04-02T01:53:07.429Z"
   },
   {
    "duration": 4,
    "start_time": "2025-04-02T01:53:15.228Z"
   },
   {
    "duration": 5,
    "start_time": "2025-04-02T01:55:47.455Z"
   },
   {
    "duration": 11,
    "start_time": "2025-04-02T01:55:54.717Z"
   },
   {
    "duration": 4,
    "start_time": "2025-04-02T01:56:01.037Z"
   },
   {
    "duration": 141,
    "start_time": "2025-04-02T01:56:10.847Z"
   },
   {
    "duration": 7,
    "start_time": "2025-04-02T01:56:23.488Z"
   },
   {
    "duration": 19,
    "start_time": "2025-04-02T01:57:35.531Z"
   },
   {
    "duration": 465,
    "start_time": "2025-04-02T01:57:51.213Z"
   },
   {
    "duration": 5,
    "start_time": "2025-04-02T01:57:52.970Z"
   },
   {
    "duration": 4,
    "start_time": "2025-04-02T01:57:53.492Z"
   },
   {
    "duration": 123,
    "start_time": "2025-04-02T01:57:54.614Z"
   },
   {
    "duration": 7,
    "start_time": "2025-04-02T01:57:55.183Z"
   },
   {
    "duration": 2,
    "start_time": "2025-04-02T01:59:43.079Z"
   },
   {
    "duration": 11,
    "start_time": "2025-04-02T01:59:49.519Z"
   },
   {
    "duration": 248,
    "start_time": "2025-04-02T02:00:11.717Z"
   }
  ],
  "kernelspec": {
   "display_name": "Python 3 (ipykernel)",
   "language": "python",
   "name": "python3"
  },
  "language_info": {
   "codemirror_mode": {
    "name": "ipython",
    "version": 3
   },
   "file_extension": ".py",
   "mimetype": "text/x-python",
   "name": "python",
   "nbconvert_exporter": "python",
   "pygments_lexer": "ipython3",
   "version": "3.9.5"
  },
  "toc": {
   "base_numbering": 1,
   "nav_menu": {},
   "number_sections": true,
   "sideBar": true,
   "skip_h1_title": true,
   "title_cell": "Table of Contents",
   "title_sidebar": "Contents",
   "toc_cell": false,
   "toc_position": {
    "height": "calc(100% - 180px)",
    "left": "10px",
    "top": "150px",
    "width": "465.071px"
   },
   "toc_section_display": true,
   "toc_window_display": true
  }
 },
 "nbformat": 4,
 "nbformat_minor": 5
}
